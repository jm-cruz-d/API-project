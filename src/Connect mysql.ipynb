{
 "cells": [
  {
   "cell_type": "markdown",
   "metadata": {},
   "source": [
    "### Conectando a sql"
   ]
  },
  {
   "cell_type": "code",
   "execution_count": 2,
   "metadata": {},
   "outputs": [
    {
     "name": "stdout",
     "output_type": "stream",
     "text": [
      "Insert your mysql root password: ········\n",
      "Connected to server!\n"
     ]
    }
   ],
   "source": [
    "import pandas as pd\n",
    "import sqlalchemy as db\n",
    "from sqlalchemy.sql import text\n",
    "import getpass\n",
    "import json\n",
    "\n",
    "password = getpass.getpass(\"Insert your mysql root password: \")\n",
    "engine = db.create_engine('mysql+pymysql://root:{}@localhost/otraoportunidad'.format(password))\n",
    "print(\"Connected to server!\")"
   ]
  },
  {
   "cell_type": "markdown",
   "metadata": {},
   "source": [
    "### Función que saca los mensajes de un idUser"
   ]
  },
  {
   "cell_type": "code",
   "execution_count": 183,
   "metadata": {},
   "outputs": [],
   "source": [
    "def query(idUser=0):\n",
    "    query = \"\"\"\n",
    "        SELECT * FROM messages WHERE users_idUser='{}'\n",
    "    \"\"\".format(idUser)\n",
    "    print(\"Running query\")\n",
    "    print(query)\n",
    "    df = pd.read_sql_query(query, engine)\n",
    "    return df"
   ]
  },
  {
   "cell_type": "code",
   "execution_count": 184,
   "metadata": {},
   "outputs": [
    {
     "name": "stdout",
     "output_type": "stream",
     "text": [
      "Running query\n",
      "\n",
      "        SELECT * FROM messages WHERE users_idUser='1'\n",
      "    \n"
     ]
    },
    {
     "data": {
      "text/html": [
       "<div>\n",
       "<style scoped>\n",
       "    .dataframe tbody tr th:only-of-type {\n",
       "        vertical-align: middle;\n",
       "    }\n",
       "\n",
       "    .dataframe tbody tr th {\n",
       "        vertical-align: top;\n",
       "    }\n",
       "\n",
       "    .dataframe thead th {\n",
       "        text-align: right;\n",
       "    }\n",
       "</style>\n",
       "<table border=\"1\" class=\"dataframe\">\n",
       "  <thead>\n",
       "    <tr style=\"text-align: right;\">\n",
       "      <th></th>\n",
       "      <th>idMessage</th>\n",
       "      <th>text</th>\n",
       "      <th>datetime</th>\n",
       "      <th>users_idUser</th>\n",
       "      <th>chats_idChat</th>\n",
       "    </tr>\n",
       "  </thead>\n",
       "  <tbody>\n",
       "    <tr>\n",
       "      <th>0</th>\n",
       "      <td>2</td>\n",
       "      <td>Dude!!! 😀️ Did you watch the game last night?</td>\n",
       "      <td>2019-10-17 10:16:59</td>\n",
       "      <td>1</td>\n",
       "      <td>5</td>\n",
       "    </tr>\n",
       "    <tr>\n",
       "      <th>1</th>\n",
       "      <td>4</td>\n",
       "      <td>Awesome! Boyander scored 3 goals!</td>\n",
       "      <td>2019-10-17 10:18:41</td>\n",
       "      <td>1</td>\n",
       "      <td>5</td>\n",
       "    </tr>\n",
       "    <tr>\n",
       "      <th>2</th>\n",
       "      <td>6</td>\n",
       "      <td>Way...</td>\n",
       "      <td>2019-10-17 10:20:41</td>\n",
       "      <td>1</td>\n",
       "      <td>5</td>\n",
       "    </tr>\n",
       "    <tr>\n",
       "      <th>3</th>\n",
       "      <td>8</td>\n",
       "      <td>For sure. We stayed at KuboLoco until 6AM.</td>\n",
       "      <td>2019-10-17 10:22:41</td>\n",
       "      <td>1</td>\n",
       "      <td>5</td>\n",
       "    </tr>\n",
       "    <tr>\n",
       "      <th>4</th>\n",
       "      <td>10</td>\n",
       "      <td>Dead, burried and still suffering! 🤮️</td>\n",
       "      <td>2019-10-17 10:24:41</td>\n",
       "      <td>1</td>\n",
       "      <td>5</td>\n",
       "    </tr>\n",
       "    <tr>\n",
       "      <th>5</th>\n",
       "      <td>21</td>\n",
       "      <td>Sweety pie! How Ive longed to talk to you.</td>\n",
       "      <td>2019-10-19 10:15:41</td>\n",
       "      <td>1</td>\n",
       "      <td>2</td>\n",
       "    </tr>\n",
       "    <tr>\n",
       "      <th>6</th>\n",
       "      <td>23</td>\n",
       "      <td>Its Mike, honey bunny. Or doctor LOVE! And you...</td>\n",
       "      <td>2019-10-19 10:17:41</td>\n",
       "      <td>1</td>\n",
       "      <td>2</td>\n",
       "    </tr>\n",
       "    <tr>\n",
       "      <th>7</th>\n",
       "      <td>25</td>\n",
       "      <td>Cant handle me on your own?</td>\n",
       "      <td>2019-10-19 10:19:41</td>\n",
       "      <td>1</td>\n",
       "      <td>2</td>\n",
       "    </tr>\n",
       "    <tr>\n",
       "      <th>8</th>\n",
       "      <td>27</td>\n",
       "      <td>That would be hot... 🔥️</td>\n",
       "      <td>2019-10-19 10:21:41</td>\n",
       "      <td>1</td>\n",
       "      <td>2</td>\n",
       "    </tr>\n",
       "    <tr>\n",
       "      <th>9</th>\n",
       "      <td>29</td>\n",
       "      <td>I NEED VODKA LIKE A CAR NEEDS GAS</td>\n",
       "      <td>2019-10-19 10:23:41</td>\n",
       "      <td>1</td>\n",
       "      <td>2</td>\n",
       "    </tr>\n",
       "    <tr>\n",
       "      <th>10</th>\n",
       "      <td>56</td>\n",
       "      <td>Hello World!!</td>\n",
       "      <td>2019-12-01 19:13:43</td>\n",
       "      <td>1</td>\n",
       "      <td>1</td>\n",
       "    </tr>\n",
       "  </tbody>\n",
       "</table>\n",
       "</div>"
      ],
      "text/plain": [
       "    idMessage                                               text  \\\n",
       "0           2      Dude!!! 😀️ Did you watch the game last night?   \n",
       "1           4                  Awesome! Boyander scored 3 goals!   \n",
       "2           6                                             Way...   \n",
       "3           8         For sure. We stayed at KuboLoco until 6AM.   \n",
       "4          10              Dead, burried and still suffering! 🤮️   \n",
       "5          21         Sweety pie! How Ive longed to talk to you.   \n",
       "6          23  Its Mike, honey bunny. Or doctor LOVE! And you...   \n",
       "7          25                        Cant handle me on your own?   \n",
       "8          27                            That would be hot... 🔥️   \n",
       "9          29                  I NEED VODKA LIKE A CAR NEEDS GAS   \n",
       "10         56                                      Hello World!!   \n",
       "\n",
       "               datetime  users_idUser  chats_idChat  \n",
       "0   2019-10-17 10:16:59             1             5  \n",
       "1   2019-10-17 10:18:41             1             5  \n",
       "2   2019-10-17 10:20:41             1             5  \n",
       "3   2019-10-17 10:22:41             1             5  \n",
       "4   2019-10-17 10:24:41             1             5  \n",
       "5   2019-10-19 10:15:41             1             2  \n",
       "6   2019-10-19 10:17:41             1             2  \n",
       "7   2019-10-19 10:19:41             1             2  \n",
       "8   2019-10-19 10:21:41             1             2  \n",
       "9   2019-10-19 10:23:41             1             2  \n",
       "10  2019-12-01 19:13:43             1             1  "
      ]
     },
     "execution_count": 184,
     "metadata": {},
     "output_type": "execute_result"
    }
   ],
   "source": [
    "query(1)"
   ]
  },
  {
   "cell_type": "markdown",
   "metadata": {},
   "source": [
    "### FUNCION QUE ME VALIA EL SABADO PARA INTRODUCIR ARCHIVOS JSON EN MI SQL\n"
   ]
  },
  {
   "cell_type": "code",
   "execution_count": 7,
   "metadata": {},
   "outputs": [],
   "source": [
    "def addConver(extension_json):\n",
    "    query = \"INSERT INTO {} VALUES {}\"\n",
    "    with engine.connect() as con:\n",
    "\n",
    "        with open(extension_json) as f:\n",
    "            chats_json = json.load(f)\n",
    "\n",
    "        users = list(set([(chats_json[i]['idUser'],chats_json[i]['userName']) for i in range(len(chats_json))]))\n",
    "\n",
    "        chats = list(set([(chats_json[i]['idChat']) for i in range(len(chats_json))]))\n",
    "\n",
    "        for user in users:\n",
    "            q = query.format('users (idUser, userName)',\"({}, '{}')\".format(user[0],user[1]),'users.idUser')\n",
    "            print(q)\n",
    "            try:\n",
    "                con.execute(q)\n",
    "                #Get Response\n",
    "                id = con.fetchone()[0]\n",
    "                print(f\"value inserted: {id}\")\n",
    "            except:\n",
    "                print(\"At least I tried\")\n",
    "\n",
    "        \n",
    "        for chat in chats:\n",
    "            q = query.format('chats(idChat)',\"({})\".format(chat),'chats.idChat')\n",
    "            print(q)\n",
    "            try:\n",
    "                con.execute(q)\n",
    "                #Get Response\n",
    "                id = con.fetchone()[0]\n",
    "                print(f\"value inserted: {id}\")\n",
    "            except:\n",
    "                print(\"At least I tried\")\n",
    "\n",
    "        for message in chats_json:\n",
    "            q = query.format('messages(idMessage, text, datetime, idUser, idChat)','({},\"{}\",\"{}\",{},{})'.format(message['idMessage'],message['text'],message['datetime'],message['idUser'],message['idChat'],),'messages.idMessage')\n",
    "            print(q)\n",
    "            try:\n",
    "                con.execute(q)\n",
    "                #Get Response\n",
    "                id = con.fetchone()[0]\n",
    "                print(f\"value inserted: {id}\")\n",
    "            except:\n",
    "                print(\"At least I tried\")\n",
    "\n",
    "        return print('Done!')\n",
    "\n"
   ]
  },
  {
   "cell_type": "markdown",
   "metadata": {},
   "source": [
    "#### Función que busca por la base de datos"
   ]
  },
  {
   "cell_type": "code",
   "execution_count": 185,
   "metadata": {},
   "outputs": [],
   "source": [
    "def queryTocha(origin_column, table, value_column, value):\n",
    "    query = \"\"\"\n",
    "        SELECT {} FROM {} WHERE {}='{}'\n",
    "    \"\"\".format(origin_column, table, value_column, value)\n",
    "    print(\"Running query\")\n",
    "    print(query)\n",
    "    df = pd.read_sql_query(query, engine)\n",
    "    return df"
   ]
  },
  {
   "cell_type": "code",
   "execution_count": 188,
   "metadata": {},
   "outputs": [
    {
     "name": "stdout",
     "output_type": "stream",
     "text": [
      "Running query\n",
      "\n",
      "        SELECT text FROM messages WHERE users_idUser='2'\n",
      "    \n"
     ]
    },
    {
     "data": {
      "text/html": [
       "<div>\n",
       "<style scoped>\n",
       "    .dataframe tbody tr th:only-of-type {\n",
       "        vertical-align: middle;\n",
       "    }\n",
       "\n",
       "    .dataframe tbody tr th {\n",
       "        vertical-align: top;\n",
       "    }\n",
       "\n",
       "    .dataframe thead th {\n",
       "        text-align: right;\n",
       "    }\n",
       "</style>\n",
       "<table border=\"1\" class=\"dataframe\">\n",
       "  <thead>\n",
       "    <tr style=\"text-align: right;\">\n",
       "      <th></th>\n",
       "      <th>text</th>\n",
       "    </tr>\n",
       "  </thead>\n",
       "  <tbody>\n",
       "    <tr>\n",
       "      <th>0</th>\n",
       "      <td>Im so angry right now!</td>\n",
       "    </tr>\n",
       "    <tr>\n",
       "      <th>1</th>\n",
       "      <td>Impossible! Cant do it! Just cant! He pissed m...</td>\n",
       "    </tr>\n",
       "    <tr>\n",
       "      <th>2</th>\n",
       "      <td>But how am I suposed to fix the facial recogni...</td>\n",
       "    </tr>\n",
       "    <tr>\n",
       "      <th>3</th>\n",
       "      <td>And who the hell is Tony? 🤯️</td>\n",
       "    </tr>\n",
       "    <tr>\n",
       "      <th>4</th>\n",
       "      <td>Oh shit. I think youre friends with my brother.</td>\n",
       "    </tr>\n",
       "  </tbody>\n",
       "</table>\n",
       "</div>"
      ],
      "text/plain": [
       "                                                text\n",
       "0                             Im so angry right now!\n",
       "1  Impossible! Cant do it! Just cant! He pissed m...\n",
       "2  But how am I suposed to fix the facial recogni...\n",
       "3                       And who the hell is Tony? 🤯️\n",
       "4    Oh shit. I think youre friends with my brother."
      ]
     },
     "execution_count": 188,
     "metadata": {},
     "output_type": "execute_result"
    }
   ],
   "source": [
    "queryTocha('text', 'messages', 'users_idUser', 2)"
   ]
  },
  {
   "cell_type": "markdown",
   "metadata": {},
   "source": [
    "### FUNCION DEL DOMINGO CON LAS COSAS AUTOINCREMENTADAS PARA INTRODUCIR ARCHIVOS JSON EN SQL\n"
   ]
  },
  {
   "cell_type": "code",
   "execution_count": 37,
   "metadata": {},
   "outputs": [
    {
     "name": "stdout",
     "output_type": "stream",
     "text": [
      "Insert your mysql root password: ········\n",
      "Connected to server!\n"
     ]
    }
   ],
   "source": [
    "import json\n",
    "from sqlalchemy.sql import text\n",
    "import sqlalchemy as db\n",
    "import getpass\n",
    "\n",
    "password = getpass.getpass(\"Insert your mysql root password: \")\n",
    "engine = db.create_engine('mysql+pymysql://root:{}@localhost/otraoportunidad'.format(password))\n",
    "print(\"Connected to server!\")\n",
    "\n",
    "def addConver(extension_json):\n",
    "    query = \"INSERT INTO {} VALUES {}\"\n",
    "    with engine.connect() as con:\n",
    "\n",
    "        with open(extension_json) as f:\n",
    "            chats_json = json.load(f)\n",
    "\n",
    "        users = list(set([(chats_json[i]['idUser'],chats_json[i]['userName']) for i in range(len(chats_json))]))\n",
    "\n",
    "        chats = list(set([(chats_json[i]['idChat']) for i in range(len(chats_json))]))\n",
    "\n",
    "        for user in users:\n",
    "            q = query.format('users (userName)',\"('{}')\".format(user[1]),'users.idUser')\n",
    "            print(q)\n",
    "            try:\n",
    "                con.execute(q)\n",
    "                #Get Response\n",
    "                id = con.fetchone()[0]\n",
    "                print(f\"value inserted: {id}\")\n",
    "            except:\n",
    "                print(\"At least I tried\")\n",
    "        \n",
    "        for chat in chats:\n",
    "            q = query.format('chats(idChat)',\"({})\".format(chat),'chats.idChat')\n",
    "            print(q)\n",
    "            try:\n",
    "                con.execute(q)\n",
    "                #Get Response\n",
    "                id = con.fetchone()[0]\n",
    "                print(f\"value inserted: {id}\")\n",
    "            except:\n",
    "                print(\"At least I tried\")\n",
    "\n",
    "        for message in chats_json:\n",
    "            q = query.format('messages(text, datetime, users_idUser, chats_idChat)','(\"{}\",\"{}\",{},{})'.format(message['text'],message['datetime'],message['idUser'],message['idChat'],),'messages.idMessage')\n",
    "            print(q)\n",
    "            try:\n",
    "                con.execute(q)\n",
    "                #Get Response\n",
    "                id = con.fetchone()[0]\n",
    "                print(f\"value inserted: {id}\")\n",
    "            except:\n",
    "                print(\"At least I tried\")\n",
    "\n",
    "        return print('Done!')"
   ]
  },
  {
   "cell_type": "code",
   "execution_count": 39,
   "metadata": {},
   "outputs": [
    {
     "name": "stdout",
     "output_type": "stream",
     "text": [
      "INSERT INTO users (userName) VALUES ('Guzman Crack')\n",
      "At least I tried\n",
      "INSERT INTO users (userName) VALUES ('Tony Pons')\n",
      "At least I tried\n",
      "INSERT INTO chats(idChat) VALUES (5)\n",
      "At least I tried\n",
      "INSERT INTO messages(text, datetime, users_idUser, chats_idChat) VALUES (\"Hey dude, have you done the lab?\",\"2019-11-21 23:15:41\",8,5)\n",
      "At least I tried\n",
      "INSERT INTO messages(text, datetime, users_idUser, chats_idChat) VALUES (\"For sure, bitch\",\"2019-11-21 23:16:59\",9,5)\n",
      "At least I tried\n",
      "Done!\n"
     ]
    }
   ],
   "source": [
    "addConver('chats2.json')"
   ]
  },
  {
   "cell_type": "markdown",
   "metadata": {},
   "source": [
    "#### Haciendo peticiones a la API"
   ]
  },
  {
   "cell_type": "code",
   "execution_count": 189,
   "metadata": {},
   "outputs": [
    {
     "name": "stdout",
     "output_type": "stream",
     "text": [
      "[{'idMessage': 2, 'text': 'Dude!!! 😀️ Did you watch the game last night?', 'datetime': '2019-10-17 10:16:59', 'users_idUser': 1, 'chats_idChat': 5}, {'idMessage': 4, 'text': 'Awesome! Boyander scored 3 goals!', 'datetime': '2019-10-17 10:18:41', 'users_idUser': 1, 'chats_idChat': 5}, {'idMessage': 6, 'text': 'Way...', 'datetime': '2019-10-17 10:20:41', 'users_idUser': 1, 'chats_idChat': 5}, {'idMessage': 8, 'text': 'For sure. We stayed at KuboLoco until 6AM.', 'datetime': '2019-10-17 10:22:41', 'users_idUser': 1, 'chats_idChat': 5}, {'idMessage': 10, 'text': 'Dead, burried and still suffering! 🤮️', 'datetime': '2019-10-17 10:24:41', 'users_idUser': 1, 'chats_idChat': 5}, {'idMessage': 21, 'text': 'Sweety pie! How Ive longed to talk to you.', 'datetime': '2019-10-19 10:15:41', 'users_idUser': 1, 'chats_idChat': 2}, {'idMessage': 23, 'text': 'Its Mike, honey bunny. Or doctor LOVE! And youre a sick little girl.', 'datetime': '2019-10-19 10:17:41', 'users_idUser': 1, 'chats_idChat': 2}, {'idMessage': 25, 'text': 'Cant handle me on your own?', 'datetime': '2019-10-19 10:19:41', 'users_idUser': 1, 'chats_idChat': 2}, {'idMessage': 27, 'text': 'That would be hot... 🔥️', 'datetime': '2019-10-19 10:21:41', 'users_idUser': 1, 'chats_idChat': 2}, {'idMessage': 29, 'text': 'I NEED VODKA LIKE A CAR NEEDS GAS', 'datetime': '2019-10-19 10:23:41', 'users_idUser': 1, 'chats_idChat': 2}, {'idMessage': 56, 'text': 'Hello World!!', 'datetime': '2019-12-01 19:13:43', 'users_idUser': 1, 'chats_idChat': 1}]\n"
     ]
    }
   ],
   "source": [
    "#FUNCIONA\n",
    "import requests\n",
    "data = requests.get('http://localhost:8080/Users/1').json()\n",
    "print(data)"
   ]
  },
  {
   "cell_type": "markdown",
   "metadata": {},
   "source": [
    "### Añadiendo elementos con la API"
   ]
  },
  {
   "cell_type": "code",
   "execution_count": 41,
   "metadata": {},
   "outputs": [
    {
     "name": "stdout",
     "output_type": "stream",
     "text": [
      "[{\"idUser\":12,\"userName\":\"Marc Pomar\"}]\n"
     ]
    }
   ],
   "source": [
    "userid = requests.post(\"http://localhost:8080/user/create/Marc%20Pomar\").json()\n",
    "print(userid)"
   ]
  },
  {
   "cell_type": "code",
   "execution_count": 175,
   "metadata": {},
   "outputs": [
    {
     "name": "stdout",
     "output_type": "stream",
     "text": [
      "[{\"idUser\":16,\"userName\":\"Capitana Bego\"}]\n"
     ]
    }
   ],
   "source": [
    "new_name = {'name': 'Capitana Bego'}\n",
    "userid = requests.post(\"http://localhost:8080/user/create\", data=new_name).json()\n",
    "print(userid)"
   ]
  },
  {
   "cell_type": "code",
   "execution_count": 176,
   "metadata": {},
   "outputs": [
    {
     "name": "stdout",
     "output_type": "stream",
     "text": [
      "{'13': 'Created chat'}\n"
     ]
    }
   ],
   "source": [
    "chatid = requests.post(\"http://localhost:8080/chat/create\").json()\n",
    "print(chatid)"
   ]
  },
  {
   "cell_type": "code",
   "execution_count": 177,
   "metadata": {},
   "outputs": [
    {
     "name": "stdout",
     "output_type": "stream",
     "text": [
      "[{\"idMessage\":58}]\n"
     ]
    }
   ],
   "source": [
    "new_message = {'user_id': '12', 'text': 'Guys, calm down, the lab will be 20 minutes maximum'}\n",
    "messageid = requests.post(\"http://localhost:8080/chat/1/addmessage\", data=new_message).json()\n",
    "print(messageid)"
   ]
  },
  {
   "cell_type": "markdown",
   "metadata": {},
   "source": [
    "### Haciendo peticiones a la API"
   ]
  },
  {
   "cell_type": "code",
   "execution_count": 191,
   "metadata": {},
   "outputs": [
    {
     "name": "stdout",
     "output_type": "stream",
     "text": [
      "1 [{\"text\":\"Im so angry right now!\"},{\"text\":\"I saw you this morning. You shouldnt get so upset. \\u2764\\ufe0f\"},{\"text\":\"Impossible! Cant do it! Just cant! He pissed me off so much.\"},{\"text\":\"Dont get so frustrated, Leia. Remember what German said.\"},{\"text\":\"But how am I suposed to fix the facial recognition system if it doesnt even work?\"},{\"text\":\"Im sure you will find a way.\"},{\"text\":\"And who the hell is Tony? \\ud83e\\udd2f\\ufe0f\"},{\"text\":\"I am Iron Man\"},{\"text\":\"Oh shit. I think youre friends with my brother.\"},{\"text\":\"Uh-Oh. Better fix that quickly.\"},{\"text\":\"Hello World!!\"},{\"text\":\"Im so happy, i have get a cat in codewars\"},{\"text\":\"Guys, calm down, the lab will be 20 minutes maximum\"}] 13\n"
     ]
    }
   ],
   "source": [
    "messages = requests.get(\"http://localhost:8080/chat/1/list\").json()\n",
    "x = json.loads(messages)\n",
    "print(len(messages[0]), messages, len(json.loads(messages)))"
   ]
  },
  {
   "cell_type": "markdown",
   "metadata": {},
   "source": [
    "### SACANDO SENTIMIENTOS\n"
   ]
  },
  {
   "cell_type": "code",
   "execution_count": 26,
   "metadata": {},
   "outputs": [
    {
     "name": "stdout",
     "output_type": "stream",
     "text": [
      "Im so angry right now!: {'neg': 0.493, 'neu': 0.507, 'pos': 0.0, 'compound': -0.5974}\n",
      "I saw you this morning. You shouldnt get so upset. ❤️: {'neg': 0.272, 'neu': 0.728, 'pos': 0.0, 'compound': -0.5214}\n",
      "Impossible! Cant do it! Just cant! He pissed me off so much.: {'neg': 0.0, 'neu': 0.722, 'pos': 0.278, 'compound': 0.6421}\n",
      "Dont get so frustrated, Leia. Remember what German said.: {'neg': 0.353, 'neu': 0.647, 'pos': 0.0, 'compound': -0.656}\n",
      "But how am I suposed to fix the facial recognition system if it doesnt even work?: {'neg': 0.0, 'neu': 1.0, 'pos': 0.0, 'compound': 0.0}\n",
      "Im sure you will find a way.: {'neg': 0.0, 'neu': 0.685, 'pos': 0.315, 'compound': 0.3182}\n",
      "And who the hell is Tony? 🤯️: {'neg': 0.434, 'neu': 0.566, 'pos': 0.0, 'compound': -0.6808}\n",
      "I am Iron Man: {'neg': 0.0, 'neu': 1.0, 'pos': 0.0, 'compound': 0.0}\n",
      "Oh shit. I think youre friends with my brother.: {'neg': 0.283, 'neu': 0.472, 'pos': 0.244, 'compound': -0.128}\n",
      "Uh-Oh. Better fix that quickly.: {'neg': 0.0, 'neu': 0.58, 'pos': 0.42, 'compound': 0.4404}\n",
      "Hello World!!: {'neg': 0.0, 'neu': 1.0, 'pos': 0.0, 'compound': 0.0}\n",
      "Im so happy, i have get a cat in codewars: {'neg': 0.0, 'neu': 0.637, 'pos': 0.363, 'compound': 0.6115}\n"
     ]
    }
   ],
   "source": [
    "import nltk # install nltk\n",
    "from nltk.sentiment.vader import SentimentIntensityAnalyzer\n",
    "sid = SentimentIntensityAnalyzer()\n",
    "\n",
    "for sent in x:\n",
    "    print(\"{}: {}\".format(sent['text'], sid.polarity_scores(sent['text'])))"
   ]
  },
  {
   "cell_type": "code",
   "execution_count": 192,
   "metadata": {},
   "outputs": [],
   "source": [
    "def analyseMessages(chat_id):\n",
    "    query = \"\"\"\n",
    "        SELECT text FROM messages WHERE chats_idChat='{}'\n",
    "    \"\"\".format(chat_id)\n",
    "    print(f\"Running query: {query}\")\n",
    "    df = pd.read_sql_query(query, engine)\n",
    "    new = df.to_json(orient='records')\n",
    "    respond = json.loads(new)\n",
    "    lst=[]\n",
    "    for sent in respond:\n",
    "        lst.append({sent['text'] : sid.polarity_scores(sent['text'])})\n",
    "    \n",
    "    return lst"
   ]
  },
  {
   "cell_type": "code",
   "execution_count": 198,
   "metadata": {},
   "outputs": [
    {
     "name": "stdout",
     "output_type": "stream",
     "text": [
      "Running query: \n",
      "        SELECT text FROM messages WHERE chats_idChat='4'\n",
      "    \n"
     ]
    },
    {
     "data": {
      "text/plain": [
       "[{'REDRUM': {'neg': 0.0, 'neu': 1.0, 'pos': 0.0, 'compound': 0.0}},\n",
       " {'What was that?': {'neg': 0.0, 'neu': 1.0, 'pos': 0.0, 'compound': 0.0}},\n",
       " {'REDRUM REDRUM REDRUM': {'neg': 0.0,\n",
       "   'neu': 1.0,\n",
       "   'pos': 0.0,\n",
       "   'compound': 0.0}},\n",
       " {'Did you mean red room? Id love a red room.': {'neg': 0.0,\n",
       "   'neu': 0.656,\n",
       "   'pos': 0.344,\n",
       "   'compound': 0.6369}},\n",
       " {'Murder, bro, cold blooded splashy murderous fun': {'neg': 0.549,\n",
       "   'neu': 0.247,\n",
       "   'pos': 0.204,\n",
       "   'compound': -0.765}},\n",
       " {'Chill out, pinky.. Its such a nice day': {'neg': 0.0,\n",
       "   'neu': 0.682,\n",
       "   'pos': 0.318,\n",
       "   'compound': 0.4215}},\n",
       " {'A nice day to create havoc!': {'neg': 0.352,\n",
       "   'neu': 0.18,\n",
       "   'pos': 0.468,\n",
       "   'compound': 0.0752}},\n",
       " {'Ill go for a walk in the park, I guess. Maybe fishing': {'neg': 0.237,\n",
       "   'neu': 0.763,\n",
       "   'pos': 0.0,\n",
       "   'compound': -0.4215}},\n",
       " {'Fishing sounds good. What about the labyrinth?': {'neg': 0.0,\n",
       "   'neu': 0.674,\n",
       "   'pos': 0.326,\n",
       "   'compound': 0.4404}},\n",
       " {'No! That places creeps me out..': {'neg': 0.333,\n",
       "   'neu': 0.667,\n",
       "   'pos': 0.0,\n",
       "   'compound': -0.3595}}]"
      ]
     },
     "execution_count": 198,
     "metadata": {},
     "output_type": "execute_result"
    }
   ],
   "source": [
    "otro = analyseMessages(4)\n",
    "otro"
   ]
  },
  {
   "cell_type": "markdown",
   "metadata": {},
   "source": [
    "### Petición de sentimientos a la API"
   ]
  },
  {
   "cell_type": "code",
   "execution_count": 200,
   "metadata": {},
   "outputs": [
    {
     "name": "stdout",
     "output_type": "stream",
     "text": [
      "[{'user media': {'neg': 0.065, 'neu': 0.854, 'pos': 0.081}}, {'Sweety pie! How Ive longed to talk to you.': {'neg': 0.0, 'neu': 1.0, 'pos': 0.0, 'compound': 0.0}}, {'Not again, Michael.... 😒️': {'neg': 0.0, 'neu': 1.0, 'pos': 0.0, 'compound': 0.0}}, {'Its Mike, honey bunny. Or doctor LOVE! And youre a sick little girl.': {'neg': 0.178, 'neu': 0.54, 'pos': 0.282, 'compound': 0.4451}}, {'Im gonna report you to Human Resources again, Michael.': {'neg': 0.0, 'neu': 1.0, 'pos': 0.0, 'compound': 0.0}}, {'Cant handle me on your own?': {'neg': 0.0, 'neu': 1.0, 'pos': 0.0, 'compound': 0.0}}, {'Id rather have a fucking alien crawling out of my ass': {'neg': 0.28, 'neu': 0.72, 'pos': 0.0, 'compound': -0.5423}}, {'That would be hot... 🔥️': {'neg': 0.0, 'neu': 1.0, 'pos': 0.0, 'compound': 0.0}}, {'Ok, youve got to stop drinking! Im calling HR.': {'neg': 0.193, 'neu': 0.614, 'pos': 0.193, 'compound': 0.0}}, {'I NEED VODKA LIKE A CAR NEEDS GAS': {'neg': 0.0, 'neu': 0.667, 'pos': 0.333, 'compound': 0.3612}}, {'Dude... Alcoholics Anonymous: https://www.aa.org': {'neg': 0.0, 'neu': 1.0, 'pos': 0.0, 'compound': 0.0}}]\n"
     ]
    }
   ],
   "source": [
    "data = requests.get('http://localhost:8080/chat/2/sentiment').json()\n",
    "print(data)"
   ]
  },
  {
   "cell_type": "code",
   "execution_count": 201,
   "metadata": {},
   "outputs": [
    {
     "name": "stdout",
     "output_type": "stream",
     "text": [
      "0.06509090909090909 0.854090909090909 0.08081818181818182\n"
     ]
    }
   ],
   "source": [
    "#MEDIA DE LOS SENTIMIENTOS\n",
    "x = sum([v['neg'] for dat in data for k, v in dat.items()])/len(data)\n",
    "y = sum([v['neu'] for dat in data for k, v in dat.items()])/len(data)\n",
    "z = sum([v['pos'] for dat in data for k, v in dat.items()])/len(data)\n",
    "print(x, y, z)"
   ]
  },
  {
   "cell_type": "code",
   "execution_count": 346,
   "metadata": {},
   "outputs": [
    {
     "name": "stdout",
     "output_type": "stream",
     "text": [
      "<class 'str'>\n"
     ]
    },
    {
     "data": {
      "text/plain": [
       "[{'idUser': 1, 'userName': 'Danny Torrances Finger'},\n",
       " {'idUser': 2, 'userName': 'J. Jonah Jameson'},\n",
       " {'idUser': 3, 'userName': 'John Wick'},\n",
       " {'idUser': 4, 'userName': 'Leia Organa'},\n",
       " {'idUser': 5, 'userName': 'Danny Torrance'},\n",
       " {'idUser': 6, 'userName': 'Tony Stark'},\n",
       " {'idUser': 7, 'userName': 'Mike Wazowski'},\n",
       " {'idUser': 8, 'userName': 'Ellen Ripley'},\n",
       " {'idUser': 9, 'userName': 'Guzman Crack'},\n",
       " {'idUser': 10, 'userName': 'Tony Pons'},\n",
       " {'idUser': 11, 'userName': 'Paquito'},\n",
       " {'idUser': 12, 'userName': 'Marc Pomar'},\n",
       " {'idUser': 13, 'userName': 'None'},\n",
       " {'idUser': 14, 'userName': 'None'},\n",
       " {'idUser': 15, 'userName': 'Clarita Malaguita'},\n",
       " {'idUser': 16, 'userName': 'Capitana Bego'}]"
      ]
     },
     "execution_count": 346,
     "metadata": {},
     "output_type": "execute_result"
    }
   ],
   "source": [
    "import requests\n",
    "texto1 = requests.get('http://localhost:8080/Users/').json()\n",
    "print(type(texto1))\n",
    "json.loads(texto1)"
   ]
  },
  {
   "cell_type": "code",
   "execution_count": 489,
   "metadata": {},
   "outputs": [
    {
     "data": {
      "text/plain": [
       "[{'userName': 'Danny Torrances Finger',\n",
       "  'text': 'Dude!!! 😀️ Did you watch the game last night?'},\n",
       " {'userName': 'Danny Torrances Finger',\n",
       "  'text': 'Awesome! Boyander scored 3 goals!'},\n",
       " {'userName': 'Danny Torrances Finger', 'text': 'Way...'},\n",
       " {'userName': 'Danny Torrances Finger',\n",
       "  'text': 'For sure. We stayed at KuboLoco until 6AM.'},\n",
       " {'userName': 'Danny Torrances Finger',\n",
       "  'text': 'Dead, burried and still suffering! 🤮️'},\n",
       " {'userName': 'Danny Torrances Finger',\n",
       "  'text': 'Sweety pie! How Ive longed to talk to you.'},\n",
       " {'userName': 'Danny Torrances Finger',\n",
       "  'text': 'Its Mike, honey bunny. Or doctor LOVE! And youre a sick little girl.'},\n",
       " {'userName': 'Danny Torrances Finger', 'text': 'Cant handle me on your own?'},\n",
       " {'userName': 'Danny Torrances Finger', 'text': 'That would be hot... 🔥️'},\n",
       " {'userName': 'Danny Torrances Finger',\n",
       "  'text': 'I NEED VODKA LIKE A CAR NEEDS GAS'},\n",
       " {'userName': 'Danny Torrances Finger', 'text': 'Hello World!!'}]"
      ]
     },
     "execution_count": 489,
     "metadata": {},
     "output_type": "execute_result"
    }
   ],
   "source": [
    "import requests\n",
    "texto = requests.get('http://localhost:8080/message/1').json()\n",
    "texto\n"
   ]
  },
  {
   "cell_type": "markdown",
   "metadata": {},
   "source": [
    "### RECOMENDACIONES"
   ]
  },
  {
   "cell_type": "code",
   "execution_count": 490,
   "metadata": {},
   "outputs": [
    {
     "data": {
      "text/plain": [
       "['Dude!!! 😀️ Did you watch the game last night?',\n",
       " 'Awesome! Boyander scored 3 goals!',\n",
       " 'Way...',\n",
       " 'For sure. We stayed at KuboLoco until 6AM.',\n",
       " 'Dead, burried and still suffering! 🤮️',\n",
       " 'Sweety pie! How Ive longed to talk to you.',\n",
       " 'Its Mike, honey bunny. Or doctor LOVE! And youre a sick little girl.',\n",
       " 'Cant handle me on your own?',\n",
       " 'That would be hot... 🔥️',\n",
       " 'I NEED VODKA LIKE A CAR NEEDS GAS',\n",
       " 'Hello World!!']"
      ]
     },
     "execution_count": 490,
     "metadata": {},
     "output_type": "execute_result"
    }
   ],
   "source": [
    "lista = []\n",
    "for i in range(1,len(texto1)):\n",
    "    X1=[]\n",
    "    for t in requests.get(f'http://localhost:8080/message/{i}').json():\n",
    "        X1.append(t['text'])\n",
    "    lista.append(X1)\n",
    "lista[0]"
   ]
  },
  {
   "cell_type": "code",
   "execution_count": 479,
   "metadata": {},
   "outputs": [
    {
     "data": {
      "text/plain": [
       "{'Danny Torrances Finger': 'Dude!!! 😀️ Did you watch the game last night? Awesome! Boyander scored 3 goals! Way... For sure. We stayed at KuboLoco until 6AM. Dead, burried and still suffering! 🤮️ Sweety pie! How Ive longed to talk to you. Its Mike, honey bunny. Or doctor LOVE! And youre a sick little girl. Cant handle me on your own? That would be hot... 🔥️ I NEED VODKA LIKE A CAR NEEDS GAS Hello World!!'}"
      ]
     },
     "execution_count": 479,
     "metadata": {},
     "output_type": "execute_result"
    }
   ],
   "source": [
    "{requests.get(f'http://localhost:8080/message/1').json()[0]['userName'] : ' '.join(lista[0])}"
   ]
  },
  {
   "cell_type": "code",
   "execution_count": 475,
   "metadata": {},
   "outputs": [],
   "source": [
    "final={}\n",
    "for i in range(1,len(texto1)):\n",
    "    if requests.get(f'http://localhost:8080/message/{i}').json() != []:\n",
    "        final[requests.get(f'http://localhost:8080/message/{i}').json()[0]['userName']] = ' '.join(lista[i-1])"
   ]
  },
  {
   "cell_type": "code",
   "execution_count": 10,
   "metadata": {},
   "outputs": [],
   "source": [
    "import requests\n",
    "def oli():\n",
    "    texto1 = requests.get('http://localhost:8080/Users/').json()\n",
    "    lista = []\n",
    "    for i in range(1,len(texto1)):\n",
    "        X1=[]\n",
    "        for t in requests.get(f'http://localhost:8080/message/{i}').json():\n",
    "            X1.append(t['text'])\n",
    "        lista.append(X1)\n",
    "    final={}\n",
    "    for i in range(1,len(texto1)):\n",
    "        if requests.get(f'http://localhost:8080/message/{i}').json() != []:\n",
    "            final[requests.get(f'http://localhost:8080/message/{i}').json()[0]['userName']] = ' '.join(lista[i-1])\n",
    "    return final"
   ]
  },
  {
   "cell_type": "code",
   "execution_count": 11,
   "metadata": {},
   "outputs": [
    {
     "data": {
      "text/plain": [
       "{'Danny Torrances Finger': 'Dude!!! 😀️ Did you watch the game last night? Awesome! Boyander scored 3 goals! Way... For sure. We stayed at KuboLoco until 6AM. Dead, burried and still suffering! 🤮️ Sweety pie! How Ive longed to talk to you. Its Mike, honey bunny. Or doctor LOVE! And youre a sick little girl. Cant handle me on your own? That would be hot... 🔥️ I NEED VODKA LIKE A CAR NEEDS GAS Hello World!!',\n",
       " 'J. Jonah Jameson': 'Im so angry right now! Impossible! Cant do it! Just cant! He pissed me off so much. But how am I suposed to fix the facial recognition system if it doesnt even work? And who the hell is Tony? 🤯️ Oh shit. I think youre friends with my brother.',\n",
       " 'John Wick': 'I saw you this morning. You shouldnt get so upset. ❤️ Dont get so frustrated, Leia. Remember what German said. Im sure you will find a way. I am Iron Man Uh-Oh. Better fix that quickly.',\n",
       " 'Leia Organa': 'Not again, Michael.... 😒️ Im gonna report you to Human Resources again, Michael. Id rather have a fucking alien crawling out of my ass Ok, youve got to stop drinking! Im calling HR. Dude... Alcoholics Anonymous: https://www.aa.org',\n",
       " 'Danny Torrance': 'I want pictures of Spiderman and I want them now! Youve got to take me seriously. Thats why youve got to get those damm pictures!! Get the god damn motherfucking fuckity fuck bloody ballsack pictures Youve got to! And I believe in you',\n",
       " 'Tony Stark': 'REDRUM REDRUM REDRUM REDRUM Murder, bro, cold blooded splashy murderous fun A nice day to create havoc! Fishing sounds good. What about the labyrinth?',\n",
       " 'Mike Wazowski': 'What was that? Did you mean red room? Id love a red room. Chill out, pinky.. Its such a nice day Ill go for a walk in the park, I guess. Maybe fishing No! That places creeps me out..',\n",
       " 'Ellen Ripley': 'Hey Mike, whats up?? No, had to work. How was it? No way! 😮️ I bet people went crazy Motherfucker! Hungover? 😵️ Sure, boss. I do! I just dont feel appreciated in my job I dunno... Maybe Thank you, boss! I feel much better... Hey dude, have you done the lab?',\n",
       " 'Guzman Crack': 'For sure, bitch',\n",
       " 'Marc Pomar': 'Guys, calm down, the lab will be 20 minutes maximum',\n",
       " 'Clarita Malaguita': 'Im so happy, i have get a cat in codewars'}"
      ]
     },
     "execution_count": 11,
     "metadata": {},
     "output_type": "execute_result"
    }
   ],
   "source": [
    "oli()"
   ]
  },
  {
   "cell_type": "code",
   "execution_count": 22,
   "metadata": {},
   "outputs": [],
   "source": [
    "import numpy as np\n",
    "def recommendator(name):\n",
    "    count_vectorizer = CountVectorizer(stop_words='english')\n",
    "    sparse_matrix = count_vectorizer.fit_transform(oli().values())\n",
    "    doc_term_matrix = sparse_matrix.todense()\n",
    "    df = pd.DataFrame(doc_term_matrix, columns=count_vectorizer.get_feature_names(), index=oli().keys())\n",
    "    similarity_matrix = distance(df, df)\n",
    "    sim_df = pd.DataFrame(similarity_matrix, columns=oli().keys(), index=oli().keys())\n",
    "    np.fill_diagonal(sim_df.values, 0) \n",
    "    pepe = sim_df.idxmax()\n",
    "    return pepe.loc[name]"
   ]
  },
  {
   "cell_type": "code",
   "execution_count": 23,
   "metadata": {},
   "outputs": [
    {
     "data": {
      "text/plain": [
       "'Ellen Ripley'"
      ]
     },
     "execution_count": 23,
     "metadata": {},
     "output_type": "execute_result"
    }
   ],
   "source": [
    "recommendator('Marc Pomar')"
   ]
  },
  {
   "cell_type": "code",
   "execution_count": 476,
   "metadata": {},
   "outputs": [
    {
     "data": {
      "text/plain": [
       "{'Danny Torrances Finger': 'Dude!!! 😀️ Did you watch the game last night? Awesome! Boyander scored 3 goals! Way... For sure. We stayed at KuboLoco until 6AM. Dead, burried and still suffering! 🤮️ Sweety pie! How Ive longed to talk to you. Its Mike, honey bunny. Or doctor LOVE! And youre a sick little girl. Cant handle me on your own? That would be hot... 🔥️ I NEED VODKA LIKE A CAR NEEDS GAS Hello World!!',\n",
       " 'J. Jonah Jameson': 'Im so angry right now! Impossible! Cant do it! Just cant! He pissed me off so much. But how am I suposed to fix the facial recognition system if it doesnt even work? And who the hell is Tony? 🤯️ Oh shit. I think youre friends with my brother.',\n",
       " 'John Wick': 'I saw you this morning. You shouldnt get so upset. ❤️ Dont get so frustrated, Leia. Remember what German said. Im sure you will find a way. I am Iron Man Uh-Oh. Better fix that quickly.',\n",
       " 'Leia Organa': 'Not again, Michael.... 😒️ Im gonna report you to Human Resources again, Michael. Id rather have a fucking alien crawling out of my ass Ok, youve got to stop drinking! Im calling HR. Dude... Alcoholics Anonymous: https://www.aa.org',\n",
       " 'Danny Torrance': 'I want pictures of Spiderman and I want them now! Youve got to take me seriously. Thats why youve got to get those damm pictures!! Get the god damn motherfucking fuckity fuck bloody ballsack pictures Youve got to! And I believe in you',\n",
       " 'Tony Stark': 'REDRUM REDRUM REDRUM REDRUM Murder, bro, cold blooded splashy murderous fun A nice day to create havoc! Fishing sounds good. What about the labyrinth?',\n",
       " 'Mike Wazowski': 'What was that? Did you mean red room? Id love a red room. Chill out, pinky.. Its such a nice day Ill go for a walk in the park, I guess. Maybe fishing No! That places creeps me out..',\n",
       " 'Ellen Ripley': 'Hey Mike, whats up?? No, had to work. How was it? No way! 😮️ I bet people went crazy Motherfucker! Hungover? 😵️ Sure, boss. I do! I just dont feel appreciated in my job I dunno... Maybe Thank you, boss! I feel much better... Hey dude, have you done the lab?',\n",
       " 'Guzman Crack': 'For sure, bitch',\n",
       " 'Marc Pomar': 'Guys, calm down, the lab will be 20 minutes maximum',\n",
       " 'Clarita Malaguita': 'Im so happy, i have get a cat in codewars'}"
      ]
     },
     "execution_count": 476,
     "metadata": {},
     "output_type": "execute_result"
    }
   ],
   "source": [
    "final"
   ]
  },
  {
   "cell_type": "code",
   "execution_count": null,
   "metadata": {},
   "outputs": [],
   "source": [
    "#COSA DE MAIKA\n",
    "def userMasMensajes():\n",
    "    with engine.connect() as con:\n",
    "        users='''SELECT idUser FROM users'''\n",
    "        users = list(con.execute(users))\n",
    "        for e in range(1, len(users)):\n",
    "            mySql_select_query = \"\"\"SELECT text FROM messages WHERE users_iduser={};\"\"\".format(e)\n",
    "            a = list(con.execute(mySql_select_query))\n",
    "            yield a"
   ]
  },
  {
   "cell_type": "markdown",
   "metadata": {},
   "source": [
    "### Como Marc"
   ]
  },
  {
   "cell_type": "code",
   "execution_count": 16,
   "metadata": {},
   "outputs": [],
   "source": [
    "import pandas as pd\n",
    "from sklearn.feature_extraction.text import CountVectorizer"
   ]
  },
  {
   "cell_type": "code",
   "execution_count": 17,
   "metadata": {},
   "outputs": [
    {
     "ename": "NameError",
     "evalue": "name 'final' is not defined",
     "output_type": "error",
     "traceback": [
      "\u001b[0;31m---------------------------------------------------------------------------\u001b[0m",
      "\u001b[0;31mNameError\u001b[0m                                 Traceback (most recent call last)",
      "\u001b[0;32m<ipython-input-17-4fecc5000dd2>\u001b[0m in \u001b[0;36m<module>\u001b[0;34m\u001b[0m\n\u001b[0;32m----> 1\u001b[0;31m \u001b[0mfinal\u001b[0m\u001b[0;34m.\u001b[0m\u001b[0mvalues\u001b[0m\u001b[0;34m(\u001b[0m\u001b[0;34m)\u001b[0m\u001b[0;34m\u001b[0m\u001b[0;34m\u001b[0m\u001b[0m\n\u001b[0m",
      "\u001b[0;31mNameError\u001b[0m: name 'final' is not defined"
     ]
    }
   ],
   "source": [
    "final.values()"
   ]
  },
  {
   "cell_type": "code",
   "execution_count": null,
   "metadata": {},
   "outputs": [],
   "source": [
    "count_vectorizer = CountVectorizer()\n",
    "sparse_matrix = count_vectorizer.fit_transform(final.values())\n",
    "sparse_matrix"
   ]
  },
  {
   "cell_type": "code",
   "execution_count": null,
   "metadata": {},
   "outputs": [],
   "source": [
    "doc_term_matrix = sparse_matrix.todense()\n",
    "df = pd.DataFrame(doc_term_matrix, \n",
    "                  columns=count_vectorizer.get_feature_names(), \n",
    "                  index=final.keys())\n",
    "display(df)"
   ]
  },
  {
   "cell_type": "code",
   "execution_count": 19,
   "metadata": {},
   "outputs": [
    {
     "ename": "NameError",
     "evalue": "name 'df' is not defined",
     "output_type": "error",
     "traceback": [
      "\u001b[0;31m---------------------------------------------------------------------------\u001b[0m",
      "\u001b[0;31mNameError\u001b[0m                                 Traceback (most recent call last)",
      "\u001b[0;32m<ipython-input-19-f0670b2ceb41>\u001b[0m in \u001b[0;36m<module>\u001b[0;34m\u001b[0m\n\u001b[1;32m      3\u001b[0m \u001b[0;34m\u001b[0m\u001b[0m\n\u001b[1;32m      4\u001b[0m \u001b[0;31m# Compute Cosine Similarity matrix (or selected distance)\u001b[0m\u001b[0;34m\u001b[0m\u001b[0;34m\u001b[0m\u001b[0;34m\u001b[0m\u001b[0m\n\u001b[0;32m----> 5\u001b[0;31m \u001b[0msimilarity_matrix\u001b[0m \u001b[0;34m=\u001b[0m \u001b[0mdistance\u001b[0m\u001b[0;34m(\u001b[0m\u001b[0mdf\u001b[0m\u001b[0;34m,\u001b[0m \u001b[0mdf\u001b[0m\u001b[0;34m)\u001b[0m\u001b[0;34m\u001b[0m\u001b[0;34m\u001b[0m\u001b[0m\n\u001b[0m\u001b[1;32m      6\u001b[0m \u001b[0mprint\u001b[0m\u001b[0;34m(\u001b[0m\u001b[0msimilarity_matrix\u001b[0m\u001b[0;34m)\u001b[0m\u001b[0;34m\u001b[0m\u001b[0;34m\u001b[0m\u001b[0m\n",
      "\u001b[0;31mNameError\u001b[0m: name 'df' is not defined"
     ]
    }
   ],
   "source": [
    "from sklearn.metrics.pairwise import cosine_similarity as distance\n",
    "#from sklearn.metrics.pairwise import euclidean_distances as distance\n",
    "\n",
    "# Compute Cosine Similarity matrix (or selected distance)\n",
    "similarity_matrix = distance(df, df)\n",
    "print(similarity_matrix)"
   ]
  },
  {
   "cell_type": "code",
   "execution_count": 18,
   "metadata": {},
   "outputs": [
    {
     "ename": "NameError",
     "evalue": "name 'similarity_matrix' is not defined",
     "output_type": "error",
     "traceback": [
      "\u001b[0;31m---------------------------------------------------------------------------\u001b[0m",
      "\u001b[0;31mNameError\u001b[0m                                 Traceback (most recent call last)",
      "\u001b[0;32m<ipython-input-18-c90f57d523a4>\u001b[0m in \u001b[0;36m<module>\u001b[0;34m\u001b[0m\n\u001b[1;32m      1\u001b[0m \u001b[0;32mimport\u001b[0m \u001b[0mseaborn\u001b[0m \u001b[0;32mas\u001b[0m \u001b[0msns\u001b[0m\u001b[0;34m\u001b[0m\u001b[0;34m\u001b[0m\u001b[0m\n\u001b[0;32m----> 2\u001b[0;31m \u001b[0msim_df\u001b[0m \u001b[0;34m=\u001b[0m \u001b[0mpd\u001b[0m\u001b[0;34m.\u001b[0m\u001b[0mDataFrame\u001b[0m\u001b[0;34m(\u001b[0m\u001b[0msimilarity_matrix\u001b[0m\u001b[0;34m,\u001b[0m \u001b[0mcolumns\u001b[0m\u001b[0;34m=\u001b[0m\u001b[0mfinal\u001b[0m\u001b[0;34m.\u001b[0m\u001b[0mkeys\u001b[0m\u001b[0;34m(\u001b[0m\u001b[0;34m)\u001b[0m\u001b[0;34m,\u001b[0m \u001b[0mindex\u001b[0m\u001b[0;34m=\u001b[0m\u001b[0mfinal\u001b[0m\u001b[0;34m.\u001b[0m\u001b[0mkeys\u001b[0m\u001b[0;34m(\u001b[0m\u001b[0;34m)\u001b[0m\u001b[0;34m)\u001b[0m\u001b[0;34m\u001b[0m\u001b[0;34m\u001b[0m\u001b[0m\n\u001b[0m\u001b[1;32m      3\u001b[0m \u001b[0mdisplay\u001b[0m\u001b[0;34m(\u001b[0m\u001b[0msim_df\u001b[0m\u001b[0;34m)\u001b[0m\u001b[0;34m\u001b[0m\u001b[0;34m\u001b[0m\u001b[0m\n\u001b[1;32m      4\u001b[0m \u001b[0msns\u001b[0m\u001b[0;34m.\u001b[0m\u001b[0mheatmap\u001b[0m\u001b[0;34m(\u001b[0m\u001b[0msim_df\u001b[0m\u001b[0;34m,\u001b[0m\u001b[0mannot\u001b[0m\u001b[0;34m=\u001b[0m\u001b[0;32mTrue\u001b[0m\u001b[0;34m)\u001b[0m\u001b[0;34m\u001b[0m\u001b[0;34m\u001b[0m\u001b[0m\n",
      "\u001b[0;31mNameError\u001b[0m: name 'similarity_matrix' is not defined"
     ]
    }
   ],
   "source": [
    "import seaborn as sns\n",
    "sim_df = pd.DataFrame(similarity_matrix, columns=final.keys(), index=final.keys())\n",
    "display(sim_df)\n",
    "sns.heatmap(sim_df,annot=True)"
   ]
  },
  {
   "cell_type": "code",
   "execution_count": null,
   "metadata": {},
   "outputs": [],
   "source": [
    "import numpy as np\n",
    "np.fill_diagonal(sim_df.values, 0)\n",
    "sim_df.idxmax()"
   ]
  },
  {
   "cell_type": "code",
   "execution_count": null,
   "metadata": {},
   "outputs": [],
   "source": []
  },
  {
   "cell_type": "code",
   "execution_count": null,
   "metadata": {},
   "outputs": [],
   "source": [
    "#INTENTANDO METER A VISUAL\n",
    "# Recomendations\n",
    "@get('/recommendation')\n",
    "def recomm():\n",
    "    messages = fa.queryUsers()\n",
    "    respond = json.loads(fa.queryUserandMess(idUser))\n",
    "    lista = []\n",
    "    for i in range(1,len(messages)):\n",
    "        X1=[]\n",
    "        for t in respond:\n",
    "            X1.append(t['text'])\n",
    "        lista.append(X1)\n",
    "    \n",
    "    final={}\n",
    "    for i in range(1,len(texto1)):\n",
    "        if requests.get(respond[i]) != []:\n",
    "            final[requests.get(respond[i][0]['userName']] = ' '.join(lista[i-1])\n",
    "    \n",
    "    count_vectorizer = CountVectorizer()\n",
    "    sparse_matrix = count_vectorizer.fit_transform(final.values())\n",
    "    doc_term_matrix = sparse_matrix.todense()\n",
    "    df = pd.DataFrame(doc_term_matrix, \n",
    "                  columns=count_vectorizer.get_feature_names(), \n",
    "                  index=final.keys() \n",
    "    similarity_matrix = distance(df, df)\n",
    "    sim_df = pd.DataFrame(similarity_matrix, columns=final.keys(), index=final.keys())\n",
    "    np.fill_diagonal(sim_df.values, 0)\n",
    "    df=sim_df.idxmax()\n",
    "    new = df.to_json(orient='records')\n",
    "    return json.dumps(new)"
   ]
  },
  {
   "cell_type": "code",
   "execution_count": null,
   "metadata": {},
   "outputs": [],
   "source": []
  },
  {
   "cell_type": "code",
   "execution_count": null,
   "metadata": {},
   "outputs": [],
   "source": []
  }
 ],
 "metadata": {
  "kernelspec": {
   "display_name": "Python 3",
   "language": "python",
   "name": "python3"
  },
  "language_info": {
   "codemirror_mode": {
    "name": "ipython",
    "version": 3
   },
   "file_extension": ".py",
   "mimetype": "text/x-python",
   "name": "python",
   "nbconvert_exporter": "python",
   "pygments_lexer": "ipython3",
   "version": "3.7.4"
  }
 },
 "nbformat": 4,
 "nbformat_minor": 2
}
