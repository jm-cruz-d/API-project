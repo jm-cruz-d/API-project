{
 "cells": [
  {
   "cell_type": "markdown",
   "metadata": {},
   "source": [
    "### Conectando a sql"
   ]
  },
  {
   "cell_type": "code",
   "execution_count": 178,
   "metadata": {},
   "outputs": [
    {
     "name": "stdout",
     "output_type": "stream",
     "text": [
      "Insert your mysql root password: ········\n",
      "Connected to server!\n"
     ]
    }
   ],
   "source": [
    "import pandas as pd\n",
    "import sqlalchemy as db\n",
    "from sqlalchemy.sql import text\n",
    "import getpass\n",
    "import json\n",
    "\n",
    "password = getpass.getpass(\"Insert your mysql root password: \")\n",
    "engine = db.create_engine('mysql+pymysql://root:{}@localhost/otraoportunidad'.format(password))\n",
    "print(\"Connected to server!\")"
   ]
  },
  {
   "cell_type": "markdown",
   "metadata": {},
   "source": [
    "### Función que saca los mensajes de un idUser"
   ]
  },
  {
   "cell_type": "code",
   "execution_count": 183,
   "metadata": {},
   "outputs": [],
   "source": [
    "def query(idUser=0):\n",
    "    query = \"\"\"\n",
    "        SELECT * FROM messages WHERE users_idUser='{}'\n",
    "    \"\"\".format(idUser)\n",
    "    print(\"Running query\")\n",
    "    print(query)\n",
    "    df = pd.read_sql_query(query, engine)\n",
    "    return df"
   ]
  },
  {
   "cell_type": "code",
   "execution_count": 184,
   "metadata": {},
   "outputs": [
    {
     "name": "stdout",
     "output_type": "stream",
     "text": [
      "Running query\n",
      "\n",
      "        SELECT * FROM messages WHERE users_idUser='1'\n",
      "    \n"
     ]
    },
    {
     "data": {
      "text/html": [
       "<div>\n",
       "<style scoped>\n",
       "    .dataframe tbody tr th:only-of-type {\n",
       "        vertical-align: middle;\n",
       "    }\n",
       "\n",
       "    .dataframe tbody tr th {\n",
       "        vertical-align: top;\n",
       "    }\n",
       "\n",
       "    .dataframe thead th {\n",
       "        text-align: right;\n",
       "    }\n",
       "</style>\n",
       "<table border=\"1\" class=\"dataframe\">\n",
       "  <thead>\n",
       "    <tr style=\"text-align: right;\">\n",
       "      <th></th>\n",
       "      <th>idMessage</th>\n",
       "      <th>text</th>\n",
       "      <th>datetime</th>\n",
       "      <th>users_idUser</th>\n",
       "      <th>chats_idChat</th>\n",
       "    </tr>\n",
       "  </thead>\n",
       "  <tbody>\n",
       "    <tr>\n",
       "      <th>0</th>\n",
       "      <td>2</td>\n",
       "      <td>Dude!!! 😀️ Did you watch the game last night?</td>\n",
       "      <td>2019-10-17 10:16:59</td>\n",
       "      <td>1</td>\n",
       "      <td>5</td>\n",
       "    </tr>\n",
       "    <tr>\n",
       "      <th>1</th>\n",
       "      <td>4</td>\n",
       "      <td>Awesome! Boyander scored 3 goals!</td>\n",
       "      <td>2019-10-17 10:18:41</td>\n",
       "      <td>1</td>\n",
       "      <td>5</td>\n",
       "    </tr>\n",
       "    <tr>\n",
       "      <th>2</th>\n",
       "      <td>6</td>\n",
       "      <td>Way...</td>\n",
       "      <td>2019-10-17 10:20:41</td>\n",
       "      <td>1</td>\n",
       "      <td>5</td>\n",
       "    </tr>\n",
       "    <tr>\n",
       "      <th>3</th>\n",
       "      <td>8</td>\n",
       "      <td>For sure. We stayed at KuboLoco until 6AM.</td>\n",
       "      <td>2019-10-17 10:22:41</td>\n",
       "      <td>1</td>\n",
       "      <td>5</td>\n",
       "    </tr>\n",
       "    <tr>\n",
       "      <th>4</th>\n",
       "      <td>10</td>\n",
       "      <td>Dead, burried and still suffering! 🤮️</td>\n",
       "      <td>2019-10-17 10:24:41</td>\n",
       "      <td>1</td>\n",
       "      <td>5</td>\n",
       "    </tr>\n",
       "    <tr>\n",
       "      <th>5</th>\n",
       "      <td>21</td>\n",
       "      <td>Sweety pie! How Ive longed to talk to you.</td>\n",
       "      <td>2019-10-19 10:15:41</td>\n",
       "      <td>1</td>\n",
       "      <td>2</td>\n",
       "    </tr>\n",
       "    <tr>\n",
       "      <th>6</th>\n",
       "      <td>23</td>\n",
       "      <td>Its Mike, honey bunny. Or doctor LOVE! And you...</td>\n",
       "      <td>2019-10-19 10:17:41</td>\n",
       "      <td>1</td>\n",
       "      <td>2</td>\n",
       "    </tr>\n",
       "    <tr>\n",
       "      <th>7</th>\n",
       "      <td>25</td>\n",
       "      <td>Cant handle me on your own?</td>\n",
       "      <td>2019-10-19 10:19:41</td>\n",
       "      <td>1</td>\n",
       "      <td>2</td>\n",
       "    </tr>\n",
       "    <tr>\n",
       "      <th>8</th>\n",
       "      <td>27</td>\n",
       "      <td>That would be hot... 🔥️</td>\n",
       "      <td>2019-10-19 10:21:41</td>\n",
       "      <td>1</td>\n",
       "      <td>2</td>\n",
       "    </tr>\n",
       "    <tr>\n",
       "      <th>9</th>\n",
       "      <td>29</td>\n",
       "      <td>I NEED VODKA LIKE A CAR NEEDS GAS</td>\n",
       "      <td>2019-10-19 10:23:41</td>\n",
       "      <td>1</td>\n",
       "      <td>2</td>\n",
       "    </tr>\n",
       "    <tr>\n",
       "      <th>10</th>\n",
       "      <td>56</td>\n",
       "      <td>Hello World!!</td>\n",
       "      <td>2019-12-01 19:13:43</td>\n",
       "      <td>1</td>\n",
       "      <td>1</td>\n",
       "    </tr>\n",
       "  </tbody>\n",
       "</table>\n",
       "</div>"
      ],
      "text/plain": [
       "    idMessage                                               text  \\\n",
       "0           2      Dude!!! 😀️ Did you watch the game last night?   \n",
       "1           4                  Awesome! Boyander scored 3 goals!   \n",
       "2           6                                             Way...   \n",
       "3           8         For sure. We stayed at KuboLoco until 6AM.   \n",
       "4          10              Dead, burried and still suffering! 🤮️   \n",
       "5          21         Sweety pie! How Ive longed to talk to you.   \n",
       "6          23  Its Mike, honey bunny. Or doctor LOVE! And you...   \n",
       "7          25                        Cant handle me on your own?   \n",
       "8          27                            That would be hot... 🔥️   \n",
       "9          29                  I NEED VODKA LIKE A CAR NEEDS GAS   \n",
       "10         56                                      Hello World!!   \n",
       "\n",
       "               datetime  users_idUser  chats_idChat  \n",
       "0   2019-10-17 10:16:59             1             5  \n",
       "1   2019-10-17 10:18:41             1             5  \n",
       "2   2019-10-17 10:20:41             1             5  \n",
       "3   2019-10-17 10:22:41             1             5  \n",
       "4   2019-10-17 10:24:41             1             5  \n",
       "5   2019-10-19 10:15:41             1             2  \n",
       "6   2019-10-19 10:17:41             1             2  \n",
       "7   2019-10-19 10:19:41             1             2  \n",
       "8   2019-10-19 10:21:41             1             2  \n",
       "9   2019-10-19 10:23:41             1             2  \n",
       "10  2019-12-01 19:13:43             1             1  "
      ]
     },
     "execution_count": 184,
     "metadata": {},
     "output_type": "execute_result"
    }
   ],
   "source": [
    "query(1)"
   ]
  },
  {
   "cell_type": "markdown",
   "metadata": {},
   "source": [
    "### FUNCION QUE ME VALIA EL SABADO PARA INTRODUCIR ARCHIVOS JSON EN MI SQL\n"
   ]
  },
  {
   "cell_type": "code",
   "execution_count": 7,
   "metadata": {},
   "outputs": [],
   "source": [
    "def addConver(extension_json):\n",
    "    query = \"INSERT INTO {} VALUES {}\"\n",
    "    with engine.connect() as con:\n",
    "\n",
    "        with open(extension_json) as f:\n",
    "            chats_json = json.load(f)\n",
    "\n",
    "        users = list(set([(chats_json[i]['idUser'],chats_json[i]['userName']) for i in range(len(chats_json))]))\n",
    "\n",
    "        chats = list(set([(chats_json[i]['idChat']) for i in range(len(chats_json))]))\n",
    "\n",
    "        for user in users:\n",
    "            q = query.format('users (idUser, userName)',\"({}, '{}')\".format(user[0],user[1]),'users.idUser')\n",
    "            print(q)\n",
    "            try:\n",
    "                con.execute(q)\n",
    "                #Get Response\n",
    "                id = con.fetchone()[0]\n",
    "                print(f\"value inserted: {id}\")\n",
    "            except:\n",
    "                print(\"At least I tried\")\n",
    "\n",
    "        \n",
    "        for chat in chats:\n",
    "            q = query.format('chats(idChat)',\"({})\".format(chat),'chats.idChat')\n",
    "            print(q)\n",
    "            try:\n",
    "                con.execute(q)\n",
    "                #Get Response\n",
    "                id = con.fetchone()[0]\n",
    "                print(f\"value inserted: {id}\")\n",
    "            except:\n",
    "                print(\"At least I tried\")\n",
    "\n",
    "        for message in chats_json:\n",
    "            q = query.format('messages(idMessage, text, datetime, idUser, idChat)','({},\"{}\",\"{}\",{},{})'.format(message['idMessage'],message['text'],message['datetime'],message['idUser'],message['idChat'],),'messages.idMessage')\n",
    "            print(q)\n",
    "            try:\n",
    "                con.execute(q)\n",
    "                #Get Response\n",
    "                id = con.fetchone()[0]\n",
    "                print(f\"value inserted: {id}\")\n",
    "            except:\n",
    "                print(\"At least I tried\")\n",
    "\n",
    "        return print('Done!')\n",
    "\n"
   ]
  },
  {
   "cell_type": "markdown",
   "metadata": {},
   "source": [
    "#### Función que busca por la base de datos"
   ]
  },
  {
   "cell_type": "code",
   "execution_count": 185,
   "metadata": {},
   "outputs": [],
   "source": [
    "def queryTocha(origin_column, table, value_column, value):\n",
    "    query = \"\"\"\n",
    "        SELECT {} FROM {} WHERE {}='{}'\n",
    "    \"\"\".format(origin_column, table, value_column, value)\n",
    "    print(\"Running query\")\n",
    "    print(query)\n",
    "    df = pd.read_sql_query(query, engine)\n",
    "    return df"
   ]
  },
  {
   "cell_type": "code",
   "execution_count": 188,
   "metadata": {},
   "outputs": [
    {
     "name": "stdout",
     "output_type": "stream",
     "text": [
      "Running query\n",
      "\n",
      "        SELECT text FROM messages WHERE users_idUser='2'\n",
      "    \n"
     ]
    },
    {
     "data": {
      "text/html": [
       "<div>\n",
       "<style scoped>\n",
       "    .dataframe tbody tr th:only-of-type {\n",
       "        vertical-align: middle;\n",
       "    }\n",
       "\n",
       "    .dataframe tbody tr th {\n",
       "        vertical-align: top;\n",
       "    }\n",
       "\n",
       "    .dataframe thead th {\n",
       "        text-align: right;\n",
       "    }\n",
       "</style>\n",
       "<table border=\"1\" class=\"dataframe\">\n",
       "  <thead>\n",
       "    <tr style=\"text-align: right;\">\n",
       "      <th></th>\n",
       "      <th>text</th>\n",
       "    </tr>\n",
       "  </thead>\n",
       "  <tbody>\n",
       "    <tr>\n",
       "      <th>0</th>\n",
       "      <td>Im so angry right now!</td>\n",
       "    </tr>\n",
       "    <tr>\n",
       "      <th>1</th>\n",
       "      <td>Impossible! Cant do it! Just cant! He pissed m...</td>\n",
       "    </tr>\n",
       "    <tr>\n",
       "      <th>2</th>\n",
       "      <td>But how am I suposed to fix the facial recogni...</td>\n",
       "    </tr>\n",
       "    <tr>\n",
       "      <th>3</th>\n",
       "      <td>And who the hell is Tony? 🤯️</td>\n",
       "    </tr>\n",
       "    <tr>\n",
       "      <th>4</th>\n",
       "      <td>Oh shit. I think youre friends with my brother.</td>\n",
       "    </tr>\n",
       "  </tbody>\n",
       "</table>\n",
       "</div>"
      ],
      "text/plain": [
       "                                                text\n",
       "0                             Im so angry right now!\n",
       "1  Impossible! Cant do it! Just cant! He pissed m...\n",
       "2  But how am I suposed to fix the facial recogni...\n",
       "3                       And who the hell is Tony? 🤯️\n",
       "4    Oh shit. I think youre friends with my brother."
      ]
     },
     "execution_count": 188,
     "metadata": {},
     "output_type": "execute_result"
    }
   ],
   "source": [
    "queryTocha('text', 'messages', 'users_idUser', 2)"
   ]
  },
  {
   "cell_type": "markdown",
   "metadata": {},
   "source": [
    "### FUNCION DEL DOMINGO CON LAS COSAS AUTOINCREMENTADAS PARA INTRODUCIR ARCHIVOS JSON EN SQL\n"
   ]
  },
  {
   "cell_type": "code",
   "execution_count": 37,
   "metadata": {},
   "outputs": [
    {
     "name": "stdout",
     "output_type": "stream",
     "text": [
      "Insert your mysql root password: ········\n",
      "Connected to server!\n"
     ]
    }
   ],
   "source": [
    "import json\n",
    "from sqlalchemy.sql import text\n",
    "import sqlalchemy as db\n",
    "import getpass\n",
    "\n",
    "password = getpass.getpass(\"Insert your mysql root password: \")\n",
    "engine = db.create_engine('mysql+pymysql://root:{}@localhost/otraoportunidad'.format(password))\n",
    "print(\"Connected to server!\")\n",
    "\n",
    "def addConver(extension_json):\n",
    "    query = \"INSERT INTO {} VALUES {}\"\n",
    "    with engine.connect() as con:\n",
    "\n",
    "        with open(extension_json) as f:\n",
    "            chats_json = json.load(f)\n",
    "\n",
    "        users = list(set([(chats_json[i]['idUser'],chats_json[i]['userName']) for i in range(len(chats_json))]))\n",
    "\n",
    "        chats = list(set([(chats_json[i]['idChat']) for i in range(len(chats_json))]))\n",
    "\n",
    "        for user in users:\n",
    "            q = query.format('users (userName)',\"('{}')\".format(user[1]),'users.idUser')\n",
    "            print(q)\n",
    "            try:\n",
    "                con.execute(q)\n",
    "                #Get Response\n",
    "                id = con.fetchone()[0]\n",
    "                print(f\"value inserted: {id}\")\n",
    "            except:\n",
    "                print(\"At least I tried\")\n",
    "        \n",
    "        for chat in chats:\n",
    "            q = query.format('chats(idChat)',\"({})\".format(chat),'chats.idChat')\n",
    "            print(q)\n",
    "            try:\n",
    "                con.execute(q)\n",
    "                #Get Response\n",
    "                id = con.fetchone()[0]\n",
    "                print(f\"value inserted: {id}\")\n",
    "            except:\n",
    "                print(\"At least I tried\")\n",
    "\n",
    "        for message in chats_json:\n",
    "            q = query.format('messages(text, datetime, users_idUser, chats_idChat)','(\"{}\",\"{}\",{},{})'.format(message['text'],message['datetime'],message['idUser'],message['idChat'],),'messages.idMessage')\n",
    "            print(q)\n",
    "            try:\n",
    "                con.execute(q)\n",
    "                #Get Response\n",
    "                id = con.fetchone()[0]\n",
    "                print(f\"value inserted: {id}\")\n",
    "            except:\n",
    "                print(\"At least I tried\")\n",
    "\n",
    "        return print('Done!')"
   ]
  },
  {
   "cell_type": "code",
   "execution_count": 39,
   "metadata": {},
   "outputs": [
    {
     "name": "stdout",
     "output_type": "stream",
     "text": [
      "INSERT INTO users (userName) VALUES ('Guzman Crack')\n",
      "At least I tried\n",
      "INSERT INTO users (userName) VALUES ('Tony Pons')\n",
      "At least I tried\n",
      "INSERT INTO chats(idChat) VALUES (5)\n",
      "At least I tried\n",
      "INSERT INTO messages(text, datetime, users_idUser, chats_idChat) VALUES (\"Hey dude, have you done the lab?\",\"2019-11-21 23:15:41\",8,5)\n",
      "At least I tried\n",
      "INSERT INTO messages(text, datetime, users_idUser, chats_idChat) VALUES (\"For sure, bitch\",\"2019-11-21 23:16:59\",9,5)\n",
      "At least I tried\n",
      "Done!\n"
     ]
    }
   ],
   "source": [
    "addConver('chats2.json')"
   ]
  },
  {
   "cell_type": "markdown",
   "metadata": {},
   "source": [
    "#### Haciendo peticiones a la API"
   ]
  },
  {
   "cell_type": "code",
   "execution_count": 189,
   "metadata": {},
   "outputs": [
    {
     "name": "stdout",
     "output_type": "stream",
     "text": [
      "[{'idMessage': 2, 'text': 'Dude!!! 😀️ Did you watch the game last night?', 'datetime': '2019-10-17 10:16:59', 'users_idUser': 1, 'chats_idChat': 5}, {'idMessage': 4, 'text': 'Awesome! Boyander scored 3 goals!', 'datetime': '2019-10-17 10:18:41', 'users_idUser': 1, 'chats_idChat': 5}, {'idMessage': 6, 'text': 'Way...', 'datetime': '2019-10-17 10:20:41', 'users_idUser': 1, 'chats_idChat': 5}, {'idMessage': 8, 'text': 'For sure. We stayed at KuboLoco until 6AM.', 'datetime': '2019-10-17 10:22:41', 'users_idUser': 1, 'chats_idChat': 5}, {'idMessage': 10, 'text': 'Dead, burried and still suffering! 🤮️', 'datetime': '2019-10-17 10:24:41', 'users_idUser': 1, 'chats_idChat': 5}, {'idMessage': 21, 'text': 'Sweety pie! How Ive longed to talk to you.', 'datetime': '2019-10-19 10:15:41', 'users_idUser': 1, 'chats_idChat': 2}, {'idMessage': 23, 'text': 'Its Mike, honey bunny. Or doctor LOVE! And youre a sick little girl.', 'datetime': '2019-10-19 10:17:41', 'users_idUser': 1, 'chats_idChat': 2}, {'idMessage': 25, 'text': 'Cant handle me on your own?', 'datetime': '2019-10-19 10:19:41', 'users_idUser': 1, 'chats_idChat': 2}, {'idMessage': 27, 'text': 'That would be hot... 🔥️', 'datetime': '2019-10-19 10:21:41', 'users_idUser': 1, 'chats_idChat': 2}, {'idMessage': 29, 'text': 'I NEED VODKA LIKE A CAR NEEDS GAS', 'datetime': '2019-10-19 10:23:41', 'users_idUser': 1, 'chats_idChat': 2}, {'idMessage': 56, 'text': 'Hello World!!', 'datetime': '2019-12-01 19:13:43', 'users_idUser': 1, 'chats_idChat': 1}]\n"
     ]
    }
   ],
   "source": [
    "#FUNCIONA\n",
    "import requests\n",
    "data = requests.get('http://localhost:8080/Users/1').json()\n",
    "print(data)"
   ]
  },
  {
   "cell_type": "markdown",
   "metadata": {},
   "source": [
    "### Añadiendo elementos con la API"
   ]
  },
  {
   "cell_type": "code",
   "execution_count": 41,
   "metadata": {},
   "outputs": [
    {
     "name": "stdout",
     "output_type": "stream",
     "text": [
      "[{\"idUser\":12,\"userName\":\"Marc Pomar\"}]\n"
     ]
    }
   ],
   "source": [
    "userid = requests.post(\"http://localhost:8080/user/create/Marc%20Pomar\").json()\n",
    "print(userid)"
   ]
  },
  {
   "cell_type": "code",
   "execution_count": 175,
   "metadata": {},
   "outputs": [
    {
     "name": "stdout",
     "output_type": "stream",
     "text": [
      "[{\"idUser\":16,\"userName\":\"Capitana Bego\"}]\n"
     ]
    }
   ],
   "source": [
    "new_name = {'name': 'Capitana Bego'}\n",
    "userid = requests.post(\"http://localhost:8080/user/create\", data=new_name).json()\n",
    "print(userid)"
   ]
  },
  {
   "cell_type": "code",
   "execution_count": 176,
   "metadata": {},
   "outputs": [
    {
     "name": "stdout",
     "output_type": "stream",
     "text": [
      "{'13': 'Created chat'}\n"
     ]
    }
   ],
   "source": [
    "chatid = requests.post(\"http://localhost:8080/chat/create\").json()\n",
    "print(chatid)"
   ]
  },
  {
   "cell_type": "code",
   "execution_count": 177,
   "metadata": {},
   "outputs": [
    {
     "name": "stdout",
     "output_type": "stream",
     "text": [
      "[{\"idMessage\":58}]\n"
     ]
    }
   ],
   "source": [
    "new_message = {'user_id': '12', 'text': 'Guys, calm down, the lab will be 20 minutes maximum'}\n",
    "messageid = requests.post(\"http://localhost:8080/chat/1/addmessage\", data=new_message).json()\n",
    "print(messageid)"
   ]
  },
  {
   "cell_type": "markdown",
   "metadata": {},
   "source": [
    "### Haciendo peticiones a la API"
   ]
  },
  {
   "cell_type": "code",
   "execution_count": 191,
   "metadata": {},
   "outputs": [
    {
     "name": "stdout",
     "output_type": "stream",
     "text": [
      "1 [{\"text\":\"Im so angry right now!\"},{\"text\":\"I saw you this morning. You shouldnt get so upset. \\u2764\\ufe0f\"},{\"text\":\"Impossible! Cant do it! Just cant! He pissed me off so much.\"},{\"text\":\"Dont get so frustrated, Leia. Remember what German said.\"},{\"text\":\"But how am I suposed to fix the facial recognition system if it doesnt even work?\"},{\"text\":\"Im sure you will find a way.\"},{\"text\":\"And who the hell is Tony? \\ud83e\\udd2f\\ufe0f\"},{\"text\":\"I am Iron Man\"},{\"text\":\"Oh shit. I think youre friends with my brother.\"},{\"text\":\"Uh-Oh. Better fix that quickly.\"},{\"text\":\"Hello World!!\"},{\"text\":\"Im so happy, i have get a cat in codewars\"},{\"text\":\"Guys, calm down, the lab will be 20 minutes maximum\"}] 13\n"
     ]
    }
   ],
   "source": [
    "messages = requests.get(\"http://localhost:8080/chat/1/list\").json()\n",
    "x = json.loads(messages)\n",
    "print(len(messages[0]), messages, len(json.loads(messages)))"
   ]
  },
  {
   "cell_type": "markdown",
   "metadata": {},
   "source": [
    "### SACANDO SENTIMIENTOS\n"
   ]
  },
  {
   "cell_type": "code",
   "execution_count": 26,
   "metadata": {},
   "outputs": [
    {
     "name": "stdout",
     "output_type": "stream",
     "text": [
      "Im so angry right now!: {'neg': 0.493, 'neu': 0.507, 'pos': 0.0, 'compound': -0.5974}\n",
      "I saw you this morning. You shouldnt get so upset. ❤️: {'neg': 0.272, 'neu': 0.728, 'pos': 0.0, 'compound': -0.5214}\n",
      "Impossible! Cant do it! Just cant! He pissed me off so much.: {'neg': 0.0, 'neu': 0.722, 'pos': 0.278, 'compound': 0.6421}\n",
      "Dont get so frustrated, Leia. Remember what German said.: {'neg': 0.353, 'neu': 0.647, 'pos': 0.0, 'compound': -0.656}\n",
      "But how am I suposed to fix the facial recognition system if it doesnt even work?: {'neg': 0.0, 'neu': 1.0, 'pos': 0.0, 'compound': 0.0}\n",
      "Im sure you will find a way.: {'neg': 0.0, 'neu': 0.685, 'pos': 0.315, 'compound': 0.3182}\n",
      "And who the hell is Tony? 🤯️: {'neg': 0.434, 'neu': 0.566, 'pos': 0.0, 'compound': -0.6808}\n",
      "I am Iron Man: {'neg': 0.0, 'neu': 1.0, 'pos': 0.0, 'compound': 0.0}\n",
      "Oh shit. I think youre friends with my brother.: {'neg': 0.283, 'neu': 0.472, 'pos': 0.244, 'compound': -0.128}\n",
      "Uh-Oh. Better fix that quickly.: {'neg': 0.0, 'neu': 0.58, 'pos': 0.42, 'compound': 0.4404}\n",
      "Hello World!!: {'neg': 0.0, 'neu': 1.0, 'pos': 0.0, 'compound': 0.0}\n",
      "Im so happy, i have get a cat in codewars: {'neg': 0.0, 'neu': 0.637, 'pos': 0.363, 'compound': 0.6115}\n"
     ]
    }
   ],
   "source": [
    "import nltk # install nltk\n",
    "from nltk.sentiment.vader import SentimentIntensityAnalyzer\n",
    "sid = SentimentIntensityAnalyzer()\n",
    "\n",
    "for sent in x:\n",
    "    print(\"{}: {}\".format(sent['text'], sid.polarity_scores(sent['text'])))"
   ]
  },
  {
   "cell_type": "code",
   "execution_count": 192,
   "metadata": {},
   "outputs": [],
   "source": [
    "def analyseMessages(chat_id):\n",
    "    query = \"\"\"\n",
    "        SELECT text FROM messages WHERE chats_idChat='{}'\n",
    "    \"\"\".format(chat_id)\n",
    "    print(f\"Running query: {query}\")\n",
    "    df = pd.read_sql_query(query, engine)\n",
    "    new = df.to_json(orient='records')\n",
    "    respond = json.loads(new)\n",
    "    lst=[]\n",
    "    for sent in respond:\n",
    "        lst.append({sent['text'] : sid.polarity_scores(sent['text'])})\n",
    "    \n",
    "    return lst"
   ]
  },
  {
   "cell_type": "code",
   "execution_count": 198,
   "metadata": {},
   "outputs": [
    {
     "name": "stdout",
     "output_type": "stream",
     "text": [
      "Running query: \n",
      "        SELECT text FROM messages WHERE chats_idChat='4'\n",
      "    \n"
     ]
    },
    {
     "data": {
      "text/plain": [
       "[{'REDRUM': {'neg': 0.0, 'neu': 1.0, 'pos': 0.0, 'compound': 0.0}},\n",
       " {'What was that?': {'neg': 0.0, 'neu': 1.0, 'pos': 0.0, 'compound': 0.0}},\n",
       " {'REDRUM REDRUM REDRUM': {'neg': 0.0,\n",
       "   'neu': 1.0,\n",
       "   'pos': 0.0,\n",
       "   'compound': 0.0}},\n",
       " {'Did you mean red room? Id love a red room.': {'neg': 0.0,\n",
       "   'neu': 0.656,\n",
       "   'pos': 0.344,\n",
       "   'compound': 0.6369}},\n",
       " {'Murder, bro, cold blooded splashy murderous fun': {'neg': 0.549,\n",
       "   'neu': 0.247,\n",
       "   'pos': 0.204,\n",
       "   'compound': -0.765}},\n",
       " {'Chill out, pinky.. Its such a nice day': {'neg': 0.0,\n",
       "   'neu': 0.682,\n",
       "   'pos': 0.318,\n",
       "   'compound': 0.4215}},\n",
       " {'A nice day to create havoc!': {'neg': 0.352,\n",
       "   'neu': 0.18,\n",
       "   'pos': 0.468,\n",
       "   'compound': 0.0752}},\n",
       " {'Ill go for a walk in the park, I guess. Maybe fishing': {'neg': 0.237,\n",
       "   'neu': 0.763,\n",
       "   'pos': 0.0,\n",
       "   'compound': -0.4215}},\n",
       " {'Fishing sounds good. What about the labyrinth?': {'neg': 0.0,\n",
       "   'neu': 0.674,\n",
       "   'pos': 0.326,\n",
       "   'compound': 0.4404}},\n",
       " {'No! That places creeps me out..': {'neg': 0.333,\n",
       "   'neu': 0.667,\n",
       "   'pos': 0.0,\n",
       "   'compound': -0.3595}}]"
      ]
     },
     "execution_count": 198,
     "metadata": {},
     "output_type": "execute_result"
    }
   ],
   "source": [
    "otro = analyseMessages(4)\n",
    "otro"
   ]
  },
  {
   "cell_type": "markdown",
   "metadata": {},
   "source": [
    "### Petición de sentimientos a la API"
   ]
  },
  {
   "cell_type": "code",
   "execution_count": 200,
   "metadata": {},
   "outputs": [
    {
     "name": "stdout",
     "output_type": "stream",
     "text": [
      "[{'user media': {'neg': 0.065, 'neu': 0.854, 'pos': 0.081}}, {'Sweety pie! How Ive longed to talk to you.': {'neg': 0.0, 'neu': 1.0, 'pos': 0.0, 'compound': 0.0}}, {'Not again, Michael.... 😒️': {'neg': 0.0, 'neu': 1.0, 'pos': 0.0, 'compound': 0.0}}, {'Its Mike, honey bunny. Or doctor LOVE! And youre a sick little girl.': {'neg': 0.178, 'neu': 0.54, 'pos': 0.282, 'compound': 0.4451}}, {'Im gonna report you to Human Resources again, Michael.': {'neg': 0.0, 'neu': 1.0, 'pos': 0.0, 'compound': 0.0}}, {'Cant handle me on your own?': {'neg': 0.0, 'neu': 1.0, 'pos': 0.0, 'compound': 0.0}}, {'Id rather have a fucking alien crawling out of my ass': {'neg': 0.28, 'neu': 0.72, 'pos': 0.0, 'compound': -0.5423}}, {'That would be hot... 🔥️': {'neg': 0.0, 'neu': 1.0, 'pos': 0.0, 'compound': 0.0}}, {'Ok, youve got to stop drinking! Im calling HR.': {'neg': 0.193, 'neu': 0.614, 'pos': 0.193, 'compound': 0.0}}, {'I NEED VODKA LIKE A CAR NEEDS GAS': {'neg': 0.0, 'neu': 0.667, 'pos': 0.333, 'compound': 0.3612}}, {'Dude... Alcoholics Anonymous: https://www.aa.org': {'neg': 0.0, 'neu': 1.0, 'pos': 0.0, 'compound': 0.0}}]\n"
     ]
    }
   ],
   "source": [
    "data = requests.get('http://localhost:8080/chat/2/sentiment').json()\n",
    "print(data)"
   ]
  },
  {
   "cell_type": "code",
   "execution_count": 201,
   "metadata": {},
   "outputs": [
    {
     "name": "stdout",
     "output_type": "stream",
     "text": [
      "0.06509090909090909 0.854090909090909 0.08081818181818182\n"
     ]
    }
   ],
   "source": [
    "#MEDIA DE LOS SENTIMIENTOS\n",
    "x = sum([v['neg'] for dat in data for k, v in dat.items()])/len(data)\n",
    "y = sum([v['neu'] for dat in data for k, v in dat.items()])/len(data)\n",
    "z = sum([v['pos'] for dat in data for k, v in dat.items()])/len(data)\n",
    "print(x, y, z)"
   ]
  },
  {
   "cell_type": "code",
   "execution_count": 346,
   "metadata": {},
   "outputs": [
    {
     "name": "stdout",
     "output_type": "stream",
     "text": [
      "<class 'str'>\n"
     ]
    },
    {
     "data": {
      "text/plain": [
       "[{'idUser': 1, 'userName': 'Danny Torrances Finger'},\n",
       " {'idUser': 2, 'userName': 'J. Jonah Jameson'},\n",
       " {'idUser': 3, 'userName': 'John Wick'},\n",
       " {'idUser': 4, 'userName': 'Leia Organa'},\n",
       " {'idUser': 5, 'userName': 'Danny Torrance'},\n",
       " {'idUser': 6, 'userName': 'Tony Stark'},\n",
       " {'idUser': 7, 'userName': 'Mike Wazowski'},\n",
       " {'idUser': 8, 'userName': 'Ellen Ripley'},\n",
       " {'idUser': 9, 'userName': 'Guzman Crack'},\n",
       " {'idUser': 10, 'userName': 'Tony Pons'},\n",
       " {'idUser': 11, 'userName': 'Paquito'},\n",
       " {'idUser': 12, 'userName': 'Marc Pomar'},\n",
       " {'idUser': 13, 'userName': 'None'},\n",
       " {'idUser': 14, 'userName': 'None'},\n",
       " {'idUser': 15, 'userName': 'Clarita Malaguita'},\n",
       " {'idUser': 16, 'userName': 'Capitana Bego'}]"
      ]
     },
     "execution_count": 346,
     "metadata": {},
     "output_type": "execute_result"
    }
   ],
   "source": [
    "import requests\n",
    "texto1 = requests.get('http://localhost:8080/Users/').json()\n",
    "print(type(texto1))\n",
    "json.loads(texto1)"
   ]
  },
  {
   "cell_type": "code",
   "execution_count": 489,
   "metadata": {},
   "outputs": [
    {
     "data": {
      "text/plain": [
       "[{'userName': 'Danny Torrances Finger',\n",
       "  'text': 'Dude!!! 😀️ Did you watch the game last night?'},\n",
       " {'userName': 'Danny Torrances Finger',\n",
       "  'text': 'Awesome! Boyander scored 3 goals!'},\n",
       " {'userName': 'Danny Torrances Finger', 'text': 'Way...'},\n",
       " {'userName': 'Danny Torrances Finger',\n",
       "  'text': 'For sure. We stayed at KuboLoco until 6AM.'},\n",
       " {'userName': 'Danny Torrances Finger',\n",
       "  'text': 'Dead, burried and still suffering! 🤮️'},\n",
       " {'userName': 'Danny Torrances Finger',\n",
       "  'text': 'Sweety pie! How Ive longed to talk to you.'},\n",
       " {'userName': 'Danny Torrances Finger',\n",
       "  'text': 'Its Mike, honey bunny. Or doctor LOVE! And youre a sick little girl.'},\n",
       " {'userName': 'Danny Torrances Finger', 'text': 'Cant handle me on your own?'},\n",
       " {'userName': 'Danny Torrances Finger', 'text': 'That would be hot... 🔥️'},\n",
       " {'userName': 'Danny Torrances Finger',\n",
       "  'text': 'I NEED VODKA LIKE A CAR NEEDS GAS'},\n",
       " {'userName': 'Danny Torrances Finger', 'text': 'Hello World!!'}]"
      ]
     },
     "execution_count": 489,
     "metadata": {},
     "output_type": "execute_result"
    }
   ],
   "source": [
    "import requests\n",
    "texto = requests.get('http://localhost:8080/message/1').json()\n",
    "texto\n"
   ]
  },
  {
   "cell_type": "markdown",
   "metadata": {},
   "source": [
    "### RECOMENDACIONES"
   ]
  },
  {
   "cell_type": "code",
   "execution_count": 490,
   "metadata": {},
   "outputs": [
    {
     "data": {
      "text/plain": [
       "['Dude!!! 😀️ Did you watch the game last night?',\n",
       " 'Awesome! Boyander scored 3 goals!',\n",
       " 'Way...',\n",
       " 'For sure. We stayed at KuboLoco until 6AM.',\n",
       " 'Dead, burried and still suffering! 🤮️',\n",
       " 'Sweety pie! How Ive longed to talk to you.',\n",
       " 'Its Mike, honey bunny. Or doctor LOVE! And youre a sick little girl.',\n",
       " 'Cant handle me on your own?',\n",
       " 'That would be hot... 🔥️',\n",
       " 'I NEED VODKA LIKE A CAR NEEDS GAS',\n",
       " 'Hello World!!']"
      ]
     },
     "execution_count": 490,
     "metadata": {},
     "output_type": "execute_result"
    }
   ],
   "source": [
    "lista = []\n",
    "for i in range(1,len(texto1)):\n",
    "    X1=[]\n",
    "    for t in requests.get(f'http://localhost:8080/message/{i}').json():\n",
    "        X1.append(t['text'])\n",
    "    lista.append(X1)\n",
    "lista[0]"
   ]
  },
  {
   "cell_type": "code",
   "execution_count": 479,
   "metadata": {},
   "outputs": [
    {
     "data": {
      "text/plain": [
       "{'Danny Torrances Finger': 'Dude!!! 😀️ Did you watch the game last night? Awesome! Boyander scored 3 goals! Way... For sure. We stayed at KuboLoco until 6AM. Dead, burried and still suffering! 🤮️ Sweety pie! How Ive longed to talk to you. Its Mike, honey bunny. Or doctor LOVE! And youre a sick little girl. Cant handle me on your own? That would be hot... 🔥️ I NEED VODKA LIKE A CAR NEEDS GAS Hello World!!'}"
      ]
     },
     "execution_count": 479,
     "metadata": {},
     "output_type": "execute_result"
    }
   ],
   "source": [
    "{requests.get(f'http://localhost:8080/message/1').json()[0]['userName'] : ' '.join(lista[0])}"
   ]
  },
  {
   "cell_type": "code",
   "execution_count": 475,
   "metadata": {},
   "outputs": [],
   "source": [
    "final={}\n",
    "for i in range(1,len(texto1)):\n",
    "    if requests.get(f'http://localhost:8080/message/{i}').json() != []:\n",
    "        final[requests.get(f'http://localhost:8080/message/{i}').json()[0]['userName']] = ' '.join(lista[i-1])"
   ]
  },
  {
   "cell_type": "code",
   "execution_count": 476,
   "metadata": {},
   "outputs": [
    {
     "data": {
      "text/plain": [
       "{'Danny Torrances Finger': 'Dude!!! 😀️ Did you watch the game last night? Awesome! Boyander scored 3 goals! Way... For sure. We stayed at KuboLoco until 6AM. Dead, burried and still suffering! 🤮️ Sweety pie! How Ive longed to talk to you. Its Mike, honey bunny. Or doctor LOVE! And youre a sick little girl. Cant handle me on your own? That would be hot... 🔥️ I NEED VODKA LIKE A CAR NEEDS GAS Hello World!!',\n",
       " 'J. Jonah Jameson': 'Im so angry right now! Impossible! Cant do it! Just cant! He pissed me off so much. But how am I suposed to fix the facial recognition system if it doesnt even work? And who the hell is Tony? 🤯️ Oh shit. I think youre friends with my brother.',\n",
       " 'John Wick': 'I saw you this morning. You shouldnt get so upset. ❤️ Dont get so frustrated, Leia. Remember what German said. Im sure you will find a way. I am Iron Man Uh-Oh. Better fix that quickly.',\n",
       " 'Leia Organa': 'Not again, Michael.... 😒️ Im gonna report you to Human Resources again, Michael. Id rather have a fucking alien crawling out of my ass Ok, youve got to stop drinking! Im calling HR. Dude... Alcoholics Anonymous: https://www.aa.org',\n",
       " 'Danny Torrance': 'I want pictures of Spiderman and I want them now! Youve got to take me seriously. Thats why youve got to get those damm pictures!! Get the god damn motherfucking fuckity fuck bloody ballsack pictures Youve got to! And I believe in you',\n",
       " 'Tony Stark': 'REDRUM REDRUM REDRUM REDRUM Murder, bro, cold blooded splashy murderous fun A nice day to create havoc! Fishing sounds good. What about the labyrinth?',\n",
       " 'Mike Wazowski': 'What was that? Did you mean red room? Id love a red room. Chill out, pinky.. Its such a nice day Ill go for a walk in the park, I guess. Maybe fishing No! That places creeps me out..',\n",
       " 'Ellen Ripley': 'Hey Mike, whats up?? No, had to work. How was it? No way! 😮️ I bet people went crazy Motherfucker! Hungover? 😵️ Sure, boss. I do! I just dont feel appreciated in my job I dunno... Maybe Thank you, boss! I feel much better... Hey dude, have you done the lab?',\n",
       " 'Guzman Crack': 'For sure, bitch',\n",
       " 'Marc Pomar': 'Guys, calm down, the lab will be 20 minutes maximum',\n",
       " 'Clarita Malaguita': 'Im so happy, i have get a cat in codewars'}"
      ]
     },
     "execution_count": 476,
     "metadata": {},
     "output_type": "execute_result"
    }
   ],
   "source": [
    "final"
   ]
  },
  {
   "cell_type": "code",
   "execution_count": null,
   "metadata": {},
   "outputs": [],
   "source": [
    "#COSA DE MAIKA\n",
    "def userMasMensajes():\n",
    "    with engine.connect() as con:\n",
    "        users='''SELECT idUser FROM users'''\n",
    "        users = list(con.execute(users))\n",
    "        for e in range(1, len(users)):\n",
    "            mySql_select_query = \"\"\"SELECT text FROM messages WHERE users_iduser={};\"\"\".format(e)\n",
    "            a = list(con.execute(mySql_select_query))\n",
    "            yield a"
   ]
  },
  {
   "cell_type": "markdown",
   "metadata": {},
   "source": [
    "### Como Marc"
   ]
  },
  {
   "cell_type": "code",
   "execution_count": 480,
   "metadata": {},
   "outputs": [],
   "source": [
    "import pandas as pd\n",
    "from sklearn.feature_extraction.text import CountVectorizer"
   ]
  },
  {
   "cell_type": "code",
   "execution_count": 481,
   "metadata": {},
   "outputs": [
    {
     "data": {
      "text/plain": [
       "dict_values(['Dude!!! 😀️ Did you watch the game last night? Awesome! Boyander scored 3 goals! Way... For sure. We stayed at KuboLoco until 6AM. Dead, burried and still suffering! 🤮️ Sweety pie! How Ive longed to talk to you. Its Mike, honey bunny. Or doctor LOVE! And youre a sick little girl. Cant handle me on your own? That would be hot... 🔥️ I NEED VODKA LIKE A CAR NEEDS GAS Hello World!!', 'Im so angry right now! Impossible! Cant do it! Just cant! He pissed me off so much. But how am I suposed to fix the facial recognition system if it doesnt even work? And who the hell is Tony? 🤯️ Oh shit. I think youre friends with my brother.', 'I saw you this morning. You shouldnt get so upset. ❤️ Dont get so frustrated, Leia. Remember what German said. Im sure you will find a way. I am Iron Man Uh-Oh. Better fix that quickly.', 'Not again, Michael.... 😒️ Im gonna report you to Human Resources again, Michael. Id rather have a fucking alien crawling out of my ass Ok, youve got to stop drinking! Im calling HR. Dude... Alcoholics Anonymous: https://www.aa.org', 'I want pictures of Spiderman and I want them now! Youve got to take me seriously. Thats why youve got to get those damm pictures!! Get the god damn motherfucking fuckity fuck bloody ballsack pictures Youve got to! And I believe in you', 'REDRUM REDRUM REDRUM REDRUM Murder, bro, cold blooded splashy murderous fun A nice day to create havoc! Fishing sounds good. What about the labyrinth?', 'What was that? Did you mean red room? Id love a red room. Chill out, pinky.. Its such a nice day Ill go for a walk in the park, I guess. Maybe fishing No! That places creeps me out..', 'Hey Mike, whats up?? No, had to work. How was it? No way! 😮️ I bet people went crazy Motherfucker! Hungover? 😵️ Sure, boss. I do! I just dont feel appreciated in my job I dunno... Maybe Thank you, boss! I feel much better... Hey dude, have you done the lab?', 'For sure, bitch', 'Guys, calm down, the lab will be 20 minutes maximum', 'Im so happy, i have get a cat in codewars'])"
      ]
     },
     "execution_count": 481,
     "metadata": {},
     "output_type": "execute_result"
    }
   ],
   "source": [
    "final.values()"
   ]
  },
  {
   "cell_type": "code",
   "execution_count": 482,
   "metadata": {},
   "outputs": [
    {
     "data": {
      "text/plain": [
       "<11x226 sparse matrix of type '<class 'numpy.int64'>'\n",
       "\twith 307 stored elements in Compressed Sparse Row format>"
      ]
     },
     "execution_count": 482,
     "metadata": {},
     "output_type": "execute_result"
    }
   ],
   "source": [
    "count_vectorizer = CountVectorizer()\n",
    "sparse_matrix = count_vectorizer.fit_transform(final.values())\n",
    "sparse_matrix"
   ]
  },
  {
   "cell_type": "code",
   "execution_count": 483,
   "metadata": {},
   "outputs": [
    {
     "data": {
      "text/html": [
       "<div>\n",
       "<style scoped>\n",
       "    .dataframe tbody tr th:only-of-type {\n",
       "        vertical-align: middle;\n",
       "    }\n",
       "\n",
       "    .dataframe tbody tr th {\n",
       "        vertical-align: top;\n",
       "    }\n",
       "\n",
       "    .dataframe thead th {\n",
       "        text-align: right;\n",
       "    }\n",
       "</style>\n",
       "<table border=\"1\" class=\"dataframe\">\n",
       "  <thead>\n",
       "    <tr style=\"text-align: right;\">\n",
       "      <th></th>\n",
       "      <th>20</th>\n",
       "      <th>6am</th>\n",
       "      <th>aa</th>\n",
       "      <th>about</th>\n",
       "      <th>again</th>\n",
       "      <th>alcoholics</th>\n",
       "      <th>alien</th>\n",
       "      <th>am</th>\n",
       "      <th>and</th>\n",
       "      <th>angry</th>\n",
       "      <th>...</th>\n",
       "      <th>will</th>\n",
       "      <th>with</th>\n",
       "      <th>work</th>\n",
       "      <th>world</th>\n",
       "      <th>would</th>\n",
       "      <th>www</th>\n",
       "      <th>you</th>\n",
       "      <th>your</th>\n",
       "      <th>youre</th>\n",
       "      <th>youve</th>\n",
       "    </tr>\n",
       "  </thead>\n",
       "  <tbody>\n",
       "    <tr>\n",
       "      <th>Danny Torrances Finger</th>\n",
       "      <td>0</td>\n",
       "      <td>1</td>\n",
       "      <td>0</td>\n",
       "      <td>0</td>\n",
       "      <td>0</td>\n",
       "      <td>0</td>\n",
       "      <td>0</td>\n",
       "      <td>0</td>\n",
       "      <td>2</td>\n",
       "      <td>0</td>\n",
       "      <td>...</td>\n",
       "      <td>0</td>\n",
       "      <td>0</td>\n",
       "      <td>0</td>\n",
       "      <td>1</td>\n",
       "      <td>1</td>\n",
       "      <td>0</td>\n",
       "      <td>2</td>\n",
       "      <td>1</td>\n",
       "      <td>1</td>\n",
       "      <td>0</td>\n",
       "    </tr>\n",
       "    <tr>\n",
       "      <th>J. Jonah Jameson</th>\n",
       "      <td>0</td>\n",
       "      <td>0</td>\n",
       "      <td>0</td>\n",
       "      <td>0</td>\n",
       "      <td>0</td>\n",
       "      <td>0</td>\n",
       "      <td>0</td>\n",
       "      <td>1</td>\n",
       "      <td>1</td>\n",
       "      <td>1</td>\n",
       "      <td>...</td>\n",
       "      <td>0</td>\n",
       "      <td>1</td>\n",
       "      <td>1</td>\n",
       "      <td>0</td>\n",
       "      <td>0</td>\n",
       "      <td>0</td>\n",
       "      <td>0</td>\n",
       "      <td>0</td>\n",
       "      <td>1</td>\n",
       "      <td>0</td>\n",
       "    </tr>\n",
       "    <tr>\n",
       "      <th>John Wick</th>\n",
       "      <td>0</td>\n",
       "      <td>0</td>\n",
       "      <td>0</td>\n",
       "      <td>0</td>\n",
       "      <td>0</td>\n",
       "      <td>0</td>\n",
       "      <td>0</td>\n",
       "      <td>1</td>\n",
       "      <td>0</td>\n",
       "      <td>0</td>\n",
       "      <td>...</td>\n",
       "      <td>1</td>\n",
       "      <td>0</td>\n",
       "      <td>0</td>\n",
       "      <td>0</td>\n",
       "      <td>0</td>\n",
       "      <td>0</td>\n",
       "      <td>3</td>\n",
       "      <td>0</td>\n",
       "      <td>0</td>\n",
       "      <td>0</td>\n",
       "    </tr>\n",
       "    <tr>\n",
       "      <th>Leia Organa</th>\n",
       "      <td>0</td>\n",
       "      <td>0</td>\n",
       "      <td>1</td>\n",
       "      <td>0</td>\n",
       "      <td>2</td>\n",
       "      <td>1</td>\n",
       "      <td>1</td>\n",
       "      <td>0</td>\n",
       "      <td>0</td>\n",
       "      <td>0</td>\n",
       "      <td>...</td>\n",
       "      <td>0</td>\n",
       "      <td>0</td>\n",
       "      <td>0</td>\n",
       "      <td>0</td>\n",
       "      <td>0</td>\n",
       "      <td>1</td>\n",
       "      <td>1</td>\n",
       "      <td>0</td>\n",
       "      <td>0</td>\n",
       "      <td>1</td>\n",
       "    </tr>\n",
       "    <tr>\n",
       "      <th>Danny Torrance</th>\n",
       "      <td>0</td>\n",
       "      <td>0</td>\n",
       "      <td>0</td>\n",
       "      <td>0</td>\n",
       "      <td>0</td>\n",
       "      <td>0</td>\n",
       "      <td>0</td>\n",
       "      <td>0</td>\n",
       "      <td>2</td>\n",
       "      <td>0</td>\n",
       "      <td>...</td>\n",
       "      <td>0</td>\n",
       "      <td>0</td>\n",
       "      <td>0</td>\n",
       "      <td>0</td>\n",
       "      <td>0</td>\n",
       "      <td>0</td>\n",
       "      <td>1</td>\n",
       "      <td>0</td>\n",
       "      <td>0</td>\n",
       "      <td>3</td>\n",
       "    </tr>\n",
       "    <tr>\n",
       "      <th>Tony Stark</th>\n",
       "      <td>0</td>\n",
       "      <td>0</td>\n",
       "      <td>0</td>\n",
       "      <td>1</td>\n",
       "      <td>0</td>\n",
       "      <td>0</td>\n",
       "      <td>0</td>\n",
       "      <td>0</td>\n",
       "      <td>0</td>\n",
       "      <td>0</td>\n",
       "      <td>...</td>\n",
       "      <td>0</td>\n",
       "      <td>0</td>\n",
       "      <td>0</td>\n",
       "      <td>0</td>\n",
       "      <td>0</td>\n",
       "      <td>0</td>\n",
       "      <td>0</td>\n",
       "      <td>0</td>\n",
       "      <td>0</td>\n",
       "      <td>0</td>\n",
       "    </tr>\n",
       "    <tr>\n",
       "      <th>Mike Wazowski</th>\n",
       "      <td>0</td>\n",
       "      <td>0</td>\n",
       "      <td>0</td>\n",
       "      <td>0</td>\n",
       "      <td>0</td>\n",
       "      <td>0</td>\n",
       "      <td>0</td>\n",
       "      <td>0</td>\n",
       "      <td>0</td>\n",
       "      <td>0</td>\n",
       "      <td>...</td>\n",
       "      <td>0</td>\n",
       "      <td>0</td>\n",
       "      <td>0</td>\n",
       "      <td>0</td>\n",
       "      <td>0</td>\n",
       "      <td>0</td>\n",
       "      <td>1</td>\n",
       "      <td>0</td>\n",
       "      <td>0</td>\n",
       "      <td>0</td>\n",
       "    </tr>\n",
       "    <tr>\n",
       "      <th>Ellen Ripley</th>\n",
       "      <td>0</td>\n",
       "      <td>0</td>\n",
       "      <td>0</td>\n",
       "      <td>0</td>\n",
       "      <td>0</td>\n",
       "      <td>0</td>\n",
       "      <td>0</td>\n",
       "      <td>0</td>\n",
       "      <td>0</td>\n",
       "      <td>0</td>\n",
       "      <td>...</td>\n",
       "      <td>0</td>\n",
       "      <td>0</td>\n",
       "      <td>1</td>\n",
       "      <td>0</td>\n",
       "      <td>0</td>\n",
       "      <td>0</td>\n",
       "      <td>2</td>\n",
       "      <td>0</td>\n",
       "      <td>0</td>\n",
       "      <td>0</td>\n",
       "    </tr>\n",
       "    <tr>\n",
       "      <th>Guzman Crack</th>\n",
       "      <td>0</td>\n",
       "      <td>0</td>\n",
       "      <td>0</td>\n",
       "      <td>0</td>\n",
       "      <td>0</td>\n",
       "      <td>0</td>\n",
       "      <td>0</td>\n",
       "      <td>0</td>\n",
       "      <td>0</td>\n",
       "      <td>0</td>\n",
       "      <td>...</td>\n",
       "      <td>0</td>\n",
       "      <td>0</td>\n",
       "      <td>0</td>\n",
       "      <td>0</td>\n",
       "      <td>0</td>\n",
       "      <td>0</td>\n",
       "      <td>0</td>\n",
       "      <td>0</td>\n",
       "      <td>0</td>\n",
       "      <td>0</td>\n",
       "    </tr>\n",
       "    <tr>\n",
       "      <th>Marc Pomar</th>\n",
       "      <td>1</td>\n",
       "      <td>0</td>\n",
       "      <td>0</td>\n",
       "      <td>0</td>\n",
       "      <td>0</td>\n",
       "      <td>0</td>\n",
       "      <td>0</td>\n",
       "      <td>0</td>\n",
       "      <td>0</td>\n",
       "      <td>0</td>\n",
       "      <td>...</td>\n",
       "      <td>1</td>\n",
       "      <td>0</td>\n",
       "      <td>0</td>\n",
       "      <td>0</td>\n",
       "      <td>0</td>\n",
       "      <td>0</td>\n",
       "      <td>0</td>\n",
       "      <td>0</td>\n",
       "      <td>0</td>\n",
       "      <td>0</td>\n",
       "    </tr>\n",
       "    <tr>\n",
       "      <th>Clarita Malaguita</th>\n",
       "      <td>0</td>\n",
       "      <td>0</td>\n",
       "      <td>0</td>\n",
       "      <td>0</td>\n",
       "      <td>0</td>\n",
       "      <td>0</td>\n",
       "      <td>0</td>\n",
       "      <td>0</td>\n",
       "      <td>0</td>\n",
       "      <td>0</td>\n",
       "      <td>...</td>\n",
       "      <td>0</td>\n",
       "      <td>0</td>\n",
       "      <td>0</td>\n",
       "      <td>0</td>\n",
       "      <td>0</td>\n",
       "      <td>0</td>\n",
       "      <td>0</td>\n",
       "      <td>0</td>\n",
       "      <td>0</td>\n",
       "      <td>0</td>\n",
       "    </tr>\n",
       "  </tbody>\n",
       "</table>\n",
       "<p>11 rows × 226 columns</p>\n",
       "</div>"
      ],
      "text/plain": [
       "                        20  6am  aa  about  again  alcoholics  alien  am  and  \\\n",
       "Danny Torrances Finger   0    1   0      0      0           0      0   0    2   \n",
       "J. Jonah Jameson         0    0   0      0      0           0      0   1    1   \n",
       "John Wick                0    0   0      0      0           0      0   1    0   \n",
       "Leia Organa              0    0   1      0      2           1      1   0    0   \n",
       "Danny Torrance           0    0   0      0      0           0      0   0    2   \n",
       "Tony Stark               0    0   0      1      0           0      0   0    0   \n",
       "Mike Wazowski            0    0   0      0      0           0      0   0    0   \n",
       "Ellen Ripley             0    0   0      0      0           0      0   0    0   \n",
       "Guzman Crack             0    0   0      0      0           0      0   0    0   \n",
       "Marc Pomar               1    0   0      0      0           0      0   0    0   \n",
       "Clarita Malaguita        0    0   0      0      0           0      0   0    0   \n",
       "\n",
       "                        angry  ...  will  with  work  world  would  www  you  \\\n",
       "Danny Torrances Finger      0  ...     0     0     0      1      1    0    2   \n",
       "J. Jonah Jameson            1  ...     0     1     1      0      0    0    0   \n",
       "John Wick                   0  ...     1     0     0      0      0    0    3   \n",
       "Leia Organa                 0  ...     0     0     0      0      0    1    1   \n",
       "Danny Torrance              0  ...     0     0     0      0      0    0    1   \n",
       "Tony Stark                  0  ...     0     0     0      0      0    0    0   \n",
       "Mike Wazowski               0  ...     0     0     0      0      0    0    1   \n",
       "Ellen Ripley                0  ...     0     0     1      0      0    0    2   \n",
       "Guzman Crack                0  ...     0     0     0      0      0    0    0   \n",
       "Marc Pomar                  0  ...     1     0     0      0      0    0    0   \n",
       "Clarita Malaguita           0  ...     0     0     0      0      0    0    0   \n",
       "\n",
       "                        your  youre  youve  \n",
       "Danny Torrances Finger     1      1      0  \n",
       "J. Jonah Jameson           0      1      0  \n",
       "John Wick                  0      0      0  \n",
       "Leia Organa                0      0      1  \n",
       "Danny Torrance             0      0      3  \n",
       "Tony Stark                 0      0      0  \n",
       "Mike Wazowski              0      0      0  \n",
       "Ellen Ripley               0      0      0  \n",
       "Guzman Crack               0      0      0  \n",
       "Marc Pomar                 0      0      0  \n",
       "Clarita Malaguita          0      0      0  \n",
       "\n",
       "[11 rows x 226 columns]"
      ]
     },
     "metadata": {},
     "output_type": "display_data"
    }
   ],
   "source": [
    "doc_term_matrix = sparse_matrix.todense()\n",
    "df = pd.DataFrame(doc_term_matrix, \n",
    "                  columns=count_vectorizer.get_feature_names(), \n",
    "                  index=final.keys())\n",
    "display(df)"
   ]
  },
  {
   "cell_type": "code",
   "execution_count": 486,
   "metadata": {},
   "outputs": [
    {
     "name": "stdout",
     "output_type": "stream",
     "text": [
      "[[1.         0.17765058 0.16288426 0.12248699 0.19858655 0.06018081\n",
      "  0.18098251 0.19380063 0.13703774 0.07505866 0.        ]\n",
      " [0.17765058 1.         0.16601942 0.10032154 0.14638501 0.06900656\n",
      "  0.06225728 0.2037037  0.         0.0860663  0.14433757]\n",
      " [0.16288426 0.16601942 1.         0.11242344 0.12758946 0.02577696\n",
      "  0.13953488 0.20752427 0.08804509 0.04822428 0.26958193]\n",
      " [0.12248699 0.10032154 0.11242344 1.         0.24671758 0.04984448\n",
      "  0.08993875 0.14045016 0.         0.         0.15638581]\n",
      " [0.19858655 0.14638501 0.12758946 0.24671758 1.         0.0808122\n",
      "  0.07290826 0.11385501 0.         0.03779645 0.12677314]\n",
      " [0.06018081 0.06900656 0.02577696 0.04984448 0.0808122  1.\n",
      "  0.12888482 0.04600437 0.         0.05345225 0.        ]\n",
      " [0.18098251 0.06225728 0.13953488 0.08993875 0.07290826 0.12888482\n",
      "  1.         0.16601942 0.08804509 0.04822428 0.05391639]\n",
      " [0.19380063 0.2037037  0.20752427 0.14045016 0.11385501 0.04600437\n",
      "  0.16601942 1.         0.07856742 0.0860663  0.09622504]\n",
      " [0.13703774 0.         0.08804509 0.         0.         0.\n",
      "  0.08804509 0.07856742 1.         0.         0.        ]\n",
      " [0.07505866 0.0860663  0.04822428 0.         0.03779645 0.05345225\n",
      "  0.04822428 0.0860663  0.         1.         0.        ]\n",
      " [0.         0.14433757 0.26958193 0.15638581 0.12677314 0.\n",
      "  0.05391639 0.09622504 0.         0.         1.        ]]\n"
     ]
    }
   ],
   "source": [
    "from sklearn.metrics.pairwise import cosine_similarity as distance\n",
    "#from sklearn.metrics.pairwise import euclidean_distances as distance\n",
    "\n",
    "# Compute Cosine Similarity matrix (or selected distance)\n",
    "similarity_matrix = distance(df, df)\n",
    "print(similarity_matrix)"
   ]
  },
  {
   "cell_type": "code",
   "execution_count": 487,
   "metadata": {},
   "outputs": [
    {
     "data": {
      "text/html": [
       "<div>\n",
       "<style scoped>\n",
       "    .dataframe tbody tr th:only-of-type {\n",
       "        vertical-align: middle;\n",
       "    }\n",
       "\n",
       "    .dataframe tbody tr th {\n",
       "        vertical-align: top;\n",
       "    }\n",
       "\n",
       "    .dataframe thead th {\n",
       "        text-align: right;\n",
       "    }\n",
       "</style>\n",
       "<table border=\"1\" class=\"dataframe\">\n",
       "  <thead>\n",
       "    <tr style=\"text-align: right;\">\n",
       "      <th></th>\n",
       "      <th>Danny Torrances Finger</th>\n",
       "      <th>J. Jonah Jameson</th>\n",
       "      <th>John Wick</th>\n",
       "      <th>Leia Organa</th>\n",
       "      <th>Danny Torrance</th>\n",
       "      <th>Tony Stark</th>\n",
       "      <th>Mike Wazowski</th>\n",
       "      <th>Ellen Ripley</th>\n",
       "      <th>Guzman Crack</th>\n",
       "      <th>Marc Pomar</th>\n",
       "      <th>Clarita Malaguita</th>\n",
       "    </tr>\n",
       "  </thead>\n",
       "  <tbody>\n",
       "    <tr>\n",
       "      <th>Danny Torrances Finger</th>\n",
       "      <td>1.000000</td>\n",
       "      <td>0.177651</td>\n",
       "      <td>0.162884</td>\n",
       "      <td>0.122487</td>\n",
       "      <td>0.198587</td>\n",
       "      <td>0.060181</td>\n",
       "      <td>0.180983</td>\n",
       "      <td>0.193801</td>\n",
       "      <td>0.137038</td>\n",
       "      <td>0.075059</td>\n",
       "      <td>0.000000</td>\n",
       "    </tr>\n",
       "    <tr>\n",
       "      <th>J. Jonah Jameson</th>\n",
       "      <td>0.177651</td>\n",
       "      <td>1.000000</td>\n",
       "      <td>0.166019</td>\n",
       "      <td>0.100322</td>\n",
       "      <td>0.146385</td>\n",
       "      <td>0.069007</td>\n",
       "      <td>0.062257</td>\n",
       "      <td>0.203704</td>\n",
       "      <td>0.000000</td>\n",
       "      <td>0.086066</td>\n",
       "      <td>0.144338</td>\n",
       "    </tr>\n",
       "    <tr>\n",
       "      <th>John Wick</th>\n",
       "      <td>0.162884</td>\n",
       "      <td>0.166019</td>\n",
       "      <td>1.000000</td>\n",
       "      <td>0.112423</td>\n",
       "      <td>0.127589</td>\n",
       "      <td>0.025777</td>\n",
       "      <td>0.139535</td>\n",
       "      <td>0.207524</td>\n",
       "      <td>0.088045</td>\n",
       "      <td>0.048224</td>\n",
       "      <td>0.269582</td>\n",
       "    </tr>\n",
       "    <tr>\n",
       "      <th>Leia Organa</th>\n",
       "      <td>0.122487</td>\n",
       "      <td>0.100322</td>\n",
       "      <td>0.112423</td>\n",
       "      <td>1.000000</td>\n",
       "      <td>0.246718</td>\n",
       "      <td>0.049844</td>\n",
       "      <td>0.089939</td>\n",
       "      <td>0.140450</td>\n",
       "      <td>0.000000</td>\n",
       "      <td>0.000000</td>\n",
       "      <td>0.156386</td>\n",
       "    </tr>\n",
       "    <tr>\n",
       "      <th>Danny Torrance</th>\n",
       "      <td>0.198587</td>\n",
       "      <td>0.146385</td>\n",
       "      <td>0.127589</td>\n",
       "      <td>0.246718</td>\n",
       "      <td>1.000000</td>\n",
       "      <td>0.080812</td>\n",
       "      <td>0.072908</td>\n",
       "      <td>0.113855</td>\n",
       "      <td>0.000000</td>\n",
       "      <td>0.037796</td>\n",
       "      <td>0.126773</td>\n",
       "    </tr>\n",
       "    <tr>\n",
       "      <th>Tony Stark</th>\n",
       "      <td>0.060181</td>\n",
       "      <td>0.069007</td>\n",
       "      <td>0.025777</td>\n",
       "      <td>0.049844</td>\n",
       "      <td>0.080812</td>\n",
       "      <td>1.000000</td>\n",
       "      <td>0.128885</td>\n",
       "      <td>0.046004</td>\n",
       "      <td>0.000000</td>\n",
       "      <td>0.053452</td>\n",
       "      <td>0.000000</td>\n",
       "    </tr>\n",
       "    <tr>\n",
       "      <th>Mike Wazowski</th>\n",
       "      <td>0.180983</td>\n",
       "      <td>0.062257</td>\n",
       "      <td>0.139535</td>\n",
       "      <td>0.089939</td>\n",
       "      <td>0.072908</td>\n",
       "      <td>0.128885</td>\n",
       "      <td>1.000000</td>\n",
       "      <td>0.166019</td>\n",
       "      <td>0.088045</td>\n",
       "      <td>0.048224</td>\n",
       "      <td>0.053916</td>\n",
       "    </tr>\n",
       "    <tr>\n",
       "      <th>Ellen Ripley</th>\n",
       "      <td>0.193801</td>\n",
       "      <td>0.203704</td>\n",
       "      <td>0.207524</td>\n",
       "      <td>0.140450</td>\n",
       "      <td>0.113855</td>\n",
       "      <td>0.046004</td>\n",
       "      <td>0.166019</td>\n",
       "      <td>1.000000</td>\n",
       "      <td>0.078567</td>\n",
       "      <td>0.086066</td>\n",
       "      <td>0.096225</td>\n",
       "    </tr>\n",
       "    <tr>\n",
       "      <th>Guzman Crack</th>\n",
       "      <td>0.137038</td>\n",
       "      <td>0.000000</td>\n",
       "      <td>0.088045</td>\n",
       "      <td>0.000000</td>\n",
       "      <td>0.000000</td>\n",
       "      <td>0.000000</td>\n",
       "      <td>0.088045</td>\n",
       "      <td>0.078567</td>\n",
       "      <td>1.000000</td>\n",
       "      <td>0.000000</td>\n",
       "      <td>0.000000</td>\n",
       "    </tr>\n",
       "    <tr>\n",
       "      <th>Marc Pomar</th>\n",
       "      <td>0.075059</td>\n",
       "      <td>0.086066</td>\n",
       "      <td>0.048224</td>\n",
       "      <td>0.000000</td>\n",
       "      <td>0.037796</td>\n",
       "      <td>0.053452</td>\n",
       "      <td>0.048224</td>\n",
       "      <td>0.086066</td>\n",
       "      <td>0.000000</td>\n",
       "      <td>1.000000</td>\n",
       "      <td>0.000000</td>\n",
       "    </tr>\n",
       "    <tr>\n",
       "      <th>Clarita Malaguita</th>\n",
       "      <td>0.000000</td>\n",
       "      <td>0.144338</td>\n",
       "      <td>0.269582</td>\n",
       "      <td>0.156386</td>\n",
       "      <td>0.126773</td>\n",
       "      <td>0.000000</td>\n",
       "      <td>0.053916</td>\n",
       "      <td>0.096225</td>\n",
       "      <td>0.000000</td>\n",
       "      <td>0.000000</td>\n",
       "      <td>1.000000</td>\n",
       "    </tr>\n",
       "  </tbody>\n",
       "</table>\n",
       "</div>"
      ],
      "text/plain": [
       "                        Danny Torrances Finger  J. Jonah Jameson  John Wick  \\\n",
       "Danny Torrances Finger                1.000000          0.177651   0.162884   \n",
       "J. Jonah Jameson                      0.177651          1.000000   0.166019   \n",
       "John Wick                             0.162884          0.166019   1.000000   \n",
       "Leia Organa                           0.122487          0.100322   0.112423   \n",
       "Danny Torrance                        0.198587          0.146385   0.127589   \n",
       "Tony Stark                            0.060181          0.069007   0.025777   \n",
       "Mike Wazowski                         0.180983          0.062257   0.139535   \n",
       "Ellen Ripley                          0.193801          0.203704   0.207524   \n",
       "Guzman Crack                          0.137038          0.000000   0.088045   \n",
       "Marc Pomar                            0.075059          0.086066   0.048224   \n",
       "Clarita Malaguita                     0.000000          0.144338   0.269582   \n",
       "\n",
       "                        Leia Organa  Danny Torrance  Tony Stark  \\\n",
       "Danny Torrances Finger     0.122487        0.198587    0.060181   \n",
       "J. Jonah Jameson           0.100322        0.146385    0.069007   \n",
       "John Wick                  0.112423        0.127589    0.025777   \n",
       "Leia Organa                1.000000        0.246718    0.049844   \n",
       "Danny Torrance             0.246718        1.000000    0.080812   \n",
       "Tony Stark                 0.049844        0.080812    1.000000   \n",
       "Mike Wazowski              0.089939        0.072908    0.128885   \n",
       "Ellen Ripley               0.140450        0.113855    0.046004   \n",
       "Guzman Crack               0.000000        0.000000    0.000000   \n",
       "Marc Pomar                 0.000000        0.037796    0.053452   \n",
       "Clarita Malaguita          0.156386        0.126773    0.000000   \n",
       "\n",
       "                        Mike Wazowski  Ellen Ripley  Guzman Crack  Marc Pomar  \\\n",
       "Danny Torrances Finger       0.180983      0.193801      0.137038    0.075059   \n",
       "J. Jonah Jameson             0.062257      0.203704      0.000000    0.086066   \n",
       "John Wick                    0.139535      0.207524      0.088045    0.048224   \n",
       "Leia Organa                  0.089939      0.140450      0.000000    0.000000   \n",
       "Danny Torrance               0.072908      0.113855      0.000000    0.037796   \n",
       "Tony Stark                   0.128885      0.046004      0.000000    0.053452   \n",
       "Mike Wazowski                1.000000      0.166019      0.088045    0.048224   \n",
       "Ellen Ripley                 0.166019      1.000000      0.078567    0.086066   \n",
       "Guzman Crack                 0.088045      0.078567      1.000000    0.000000   \n",
       "Marc Pomar                   0.048224      0.086066      0.000000    1.000000   \n",
       "Clarita Malaguita            0.053916      0.096225      0.000000    0.000000   \n",
       "\n",
       "                        Clarita Malaguita  \n",
       "Danny Torrances Finger           0.000000  \n",
       "J. Jonah Jameson                 0.144338  \n",
       "John Wick                        0.269582  \n",
       "Leia Organa                      0.156386  \n",
       "Danny Torrance                   0.126773  \n",
       "Tony Stark                       0.000000  \n",
       "Mike Wazowski                    0.053916  \n",
       "Ellen Ripley                     0.096225  \n",
       "Guzman Crack                     0.000000  \n",
       "Marc Pomar                       0.000000  \n",
       "Clarita Malaguita                1.000000  "
      ]
     },
     "metadata": {},
     "output_type": "display_data"
    },
    {
     "data": {
      "text/plain": [
       "<matplotlib.axes._subplots.AxesSubplot at 0x120aa6550>"
      ]
     },
     "execution_count": 487,
     "metadata": {},
     "output_type": "execute_result"
    },
    {
     "data": {
      "image/png": "[encoded data removed]",
      "text/plain": [
       "<Figure size 432x288 with 2 Axes>"
      ]
     },
     "metadata": {
      "needs_background": "light"
     },
     "output_type": "display_data"
    }
   ],
   "source": [
    "import seaborn as sns\n",
    "sim_df = pd.DataFrame(similarity_matrix, columns=final.keys(), index=final.keys())\n",
    "display(sim_df)\n",
    "sns.heatmap(sim_df,annot=True)"
   ]
  },
  {
   "cell_type": "code",
   "execution_count": 488,
   "metadata": {},
   "outputs": [
    {
     "data": {
      "text/plain": [
       "Danny Torrances Finger            Danny Torrance\n",
       "J. Jonah Jameson                    Ellen Ripley\n",
       "John Wick                      Clarita Malaguita\n",
       "Leia Organa                       Danny Torrance\n",
       "Danny Torrance                       Leia Organa\n",
       "Tony Stark                         Mike Wazowski\n",
       "Mike Wazowski             Danny Torrances Finger\n",
       "Ellen Ripley                           John Wick\n",
       "Guzman Crack              Danny Torrances Finger\n",
       "Marc Pomar                      J. Jonah Jameson\n",
       "Clarita Malaguita                      John Wick\n",
       "dtype: object"
      ]
     },
     "execution_count": 488,
     "metadata": {},
     "output_type": "execute_result"
    }
   ],
   "source": [
    "import numpy as np\n",
    "np.fill_diagonal(sim_df.values, 0)\n",
    "sim_df.idxmax()"
   ]
  },
  {
   "cell_type": "code",
   "execution_count": null,
   "metadata": {},
   "outputs": [],
   "source": []
  },
  {
   "cell_type": "code",
   "execution_count": null,
   "metadata": {},
   "outputs": [],
   "source": [
    "#INTENTANDO METER A VISUAL\n",
    "# Recomendations\n",
    "@get('/recommendation')\n",
    "def recomm():\n",
    "    messages = fa.queryUsers()\n",
    "    respond = json.loads(fa.queryUserandMess(idUser))\n",
    "    lista = []\n",
    "    for i in range(1,len(messages)):\n",
    "        X1=[]\n",
    "        for t in respond:\n",
    "            X1.append(t['text'])\n",
    "        lista.append(X1)\n",
    "    \n",
    "    final={}\n",
    "    for i in range(1,len(texto1)):\n",
    "        if requests.get(respond[i]) != []:\n",
    "            final[requests.get(respond[i][0]['userName']] = ' '.join(lista[i-1])\n",
    "    \n",
    "    count_vectorizer = CountVectorizer()\n",
    "    sparse_matrix = count_vectorizer.fit_transform(final.values())\n",
    "    doc_term_matrix = sparse_matrix.todense()\n",
    "    df = pd.DataFrame(doc_term_matrix, \n",
    "                  columns=count_vectorizer.get_feature_names(), \n",
    "                  index=final.keys() \n",
    "    similarity_matrix = distance(df, df)\n",
    "    sim_df = pd.DataFrame(similarity_matrix, columns=final.keys(), index=final.keys())\n",
    "    np.fill_diagonal(sim_df.values, 0)\n",
    "    df=sim_df.idxmax()\n",
    "    new = df.to_json(orient='records')\n",
    "    return json.dumps(new)"
   ]
  }
 ],
 "metadata": {
  "kernelspec": {
   "display_name": "Python 3",
   "language": "python",
   "name": "python3"
  },
  "language_info": {
   "codemirror_mode": {
    "name": "ipython",
    "version": 3
   },
   "file_extension": ".py",
   "mimetype": "text/x-python",
   "name": "python",
   "nbconvert_exporter": "python",
   "pygments_lexer": "ipython3",
   "version": "3.7.4"
  }
 },
 "nbformat": 4,
 "nbformat_minor": 2
}
